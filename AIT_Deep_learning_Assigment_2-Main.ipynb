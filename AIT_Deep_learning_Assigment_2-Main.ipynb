{
  "cells": [
    {
      "cell_type": "markdown",
      "metadata": {
        "id": "_jiGtJu6u9ml"
      },
      "source": [
        "# Copyright\n",
        "\n",
        "<PRE>\n",
        "Copyright (c) 2022 Bálint Gyires-Tóth - All Rights Reserved\n",
        "You may use and modify this code for research and development purpuses.\n",
        "Use this code for educational purposes (self-paced or instructor led) without the permission of the author is prohibited.\n",
        "</PRE>"
      ]
    },
    {
      "cell_type": "markdown",
      "metadata": {
        "id": "oXyFC44jV-PP"
      },
      "source": [
        "\n",
        "\n",
        "# California housing prices - modeling\n",
        "In this notebook we will: \n",
        "* using California housing prices data (https://www.kaggle.com/camnugent/california-housing-prices)\n",
        "* exploring the data\n",
        "* creating a model\n",
        "* training the model\n",
        "* evaluation on test data\n",
        "* making predictions and regression plot\n",
        "\n",
        "Assigment: \n",
        "* please complete TODO parts\n"
      ]
    },
    {
      "cell_type": "code",
      "execution_count": 20,
      "metadata": {
        "id": "jLX73EvBu9ms"
      },
      "outputs": [],
      "source": [
        "import matplotlib.pyplot as plt\n",
        "import seaborn as sns\n",
        "import numpy as np\n",
        "import pandas as pd\n",
        "import matplotlib.pyplot as plt \n",
        "from sklearn import preprocessing\n",
        "from sklearn.datasets import fetch_california_housing\n"
      ]
    },
    {
      "cell_type": "code",
      "execution_count": 21,
      "metadata": {
        "id": "Ba-K0MyGoNay"
      },
      "outputs": [],
      "source": [
        "#<TODO> # Keras imports : model, layers, optimizers\n",
        "from tensorflow.keras.models import Sequential\n",
        "from tensorflow.keras.layers import Dense,Dropout\n",
        "from tensorflow.keras.optimizers import SGD, Adam \n",
        "from tensorflow.keras.initializers import HeNormal\n",
        "from tensorflow.keras.callbacks import EarlyStopping \n",
        "\n"
      ]
    },
    {
      "cell_type": "code",
      "source": [
        "california_housing = fetch_california_housing(as_frame=True)\n",
        "california_housing.data.head()\n"
      ],
      "metadata": {
        "colab": {
          "base_uri": "https://localhost:8080/",
          "height": 206
        },
        "id": "vFzhF9jjEhOP",
        "outputId": "a944b339-cd40-4908-9646-f34eee79d23d"
      },
      "execution_count": 4,
      "outputs": [
        {
          "output_type": "execute_result",
          "data": {
            "text/plain": [
              "   MedInc  HouseAge  AveRooms  AveBedrms  Population  AveOccup  Latitude  \\\n",
              "0  8.3252      41.0  6.984127   1.023810       322.0  2.555556     37.88   \n",
              "1  8.3014      21.0  6.238137   0.971880      2401.0  2.109842     37.86   \n",
              "2  7.2574      52.0  8.288136   1.073446       496.0  2.802260     37.85   \n",
              "3  5.6431      52.0  5.817352   1.073059       558.0  2.547945     37.85   \n",
              "4  3.8462      52.0  6.281853   1.081081       565.0  2.181467     37.85   \n",
              "\n",
              "   Longitude  \n",
              "0    -122.23  \n",
              "1    -122.22  \n",
              "2    -122.24  \n",
              "3    -122.25  \n",
              "4    -122.25  "
            ],
            "text/html": [
              "\n",
              "  <div id=\"df-4c560646-a483-4e27-b085-8f9b26704dc8\">\n",
              "    <div class=\"colab-df-container\">\n",
              "      <div>\n",
              "<style scoped>\n",
              "    .dataframe tbody tr th:only-of-type {\n",
              "        vertical-align: middle;\n",
              "    }\n",
              "\n",
              "    .dataframe tbody tr th {\n",
              "        vertical-align: top;\n",
              "    }\n",
              "\n",
              "    .dataframe thead th {\n",
              "        text-align: right;\n",
              "    }\n",
              "</style>\n",
              "<table border=\"1\" class=\"dataframe\">\n",
              "  <thead>\n",
              "    <tr style=\"text-align: right;\">\n",
              "      <th></th>\n",
              "      <th>MedInc</th>\n",
              "      <th>HouseAge</th>\n",
              "      <th>AveRooms</th>\n",
              "      <th>AveBedrms</th>\n",
              "      <th>Population</th>\n",
              "      <th>AveOccup</th>\n",
              "      <th>Latitude</th>\n",
              "      <th>Longitude</th>\n",
              "    </tr>\n",
              "  </thead>\n",
              "  <tbody>\n",
              "    <tr>\n",
              "      <th>0</th>\n",
              "      <td>8.3252</td>\n",
              "      <td>41.0</td>\n",
              "      <td>6.984127</td>\n",
              "      <td>1.023810</td>\n",
              "      <td>322.0</td>\n",
              "      <td>2.555556</td>\n",
              "      <td>37.88</td>\n",
              "      <td>-122.23</td>\n",
              "    </tr>\n",
              "    <tr>\n",
              "      <th>1</th>\n",
              "      <td>8.3014</td>\n",
              "      <td>21.0</td>\n",
              "      <td>6.238137</td>\n",
              "      <td>0.971880</td>\n",
              "      <td>2401.0</td>\n",
              "      <td>2.109842</td>\n",
              "      <td>37.86</td>\n",
              "      <td>-122.22</td>\n",
              "    </tr>\n",
              "    <tr>\n",
              "      <th>2</th>\n",
              "      <td>7.2574</td>\n",
              "      <td>52.0</td>\n",
              "      <td>8.288136</td>\n",
              "      <td>1.073446</td>\n",
              "      <td>496.0</td>\n",
              "      <td>2.802260</td>\n",
              "      <td>37.85</td>\n",
              "      <td>-122.24</td>\n",
              "    </tr>\n",
              "    <tr>\n",
              "      <th>3</th>\n",
              "      <td>5.6431</td>\n",
              "      <td>52.0</td>\n",
              "      <td>5.817352</td>\n",
              "      <td>1.073059</td>\n",
              "      <td>558.0</td>\n",
              "      <td>2.547945</td>\n",
              "      <td>37.85</td>\n",
              "      <td>-122.25</td>\n",
              "    </tr>\n",
              "    <tr>\n",
              "      <th>4</th>\n",
              "      <td>3.8462</td>\n",
              "      <td>52.0</td>\n",
              "      <td>6.281853</td>\n",
              "      <td>1.081081</td>\n",
              "      <td>565.0</td>\n",
              "      <td>2.181467</td>\n",
              "      <td>37.85</td>\n",
              "      <td>-122.25</td>\n",
              "    </tr>\n",
              "  </tbody>\n",
              "</table>\n",
              "</div>\n",
              "      <button class=\"colab-df-convert\" onclick=\"convertToInteractive('df-4c560646-a483-4e27-b085-8f9b26704dc8')\"\n",
              "              title=\"Convert this dataframe to an interactive table.\"\n",
              "              style=\"display:none;\">\n",
              "        \n",
              "  <svg xmlns=\"http://www.w3.org/2000/svg\" height=\"24px\"viewBox=\"0 0 24 24\"\n",
              "       width=\"24px\">\n",
              "    <path d=\"M0 0h24v24H0V0z\" fill=\"none\"/>\n",
              "    <path d=\"M18.56 5.44l.94 2.06.94-2.06 2.06-.94-2.06-.94-.94-2.06-.94 2.06-2.06.94zm-11 1L8.5 8.5l.94-2.06 2.06-.94-2.06-.94L8.5 2.5l-.94 2.06-2.06.94zm10 10l.94 2.06.94-2.06 2.06-.94-2.06-.94-.94-2.06-.94 2.06-2.06.94z\"/><path d=\"M17.41 7.96l-1.37-1.37c-.4-.4-.92-.59-1.43-.59-.52 0-1.04.2-1.43.59L10.3 9.45l-7.72 7.72c-.78.78-.78 2.05 0 2.83L4 21.41c.39.39.9.59 1.41.59.51 0 1.02-.2 1.41-.59l7.78-7.78 2.81-2.81c.8-.78.8-2.07 0-2.86zM5.41 20L4 18.59l7.72-7.72 1.47 1.35L5.41 20z\"/>\n",
              "  </svg>\n",
              "      </button>\n",
              "      \n",
              "  <style>\n",
              "    .colab-df-container {\n",
              "      display:flex;\n",
              "      flex-wrap:wrap;\n",
              "      gap: 12px;\n",
              "    }\n",
              "\n",
              "    .colab-df-convert {\n",
              "      background-color: #E8F0FE;\n",
              "      border: none;\n",
              "      border-radius: 50%;\n",
              "      cursor: pointer;\n",
              "      display: none;\n",
              "      fill: #1967D2;\n",
              "      height: 32px;\n",
              "      padding: 0 0 0 0;\n",
              "      width: 32px;\n",
              "    }\n",
              "\n",
              "    .colab-df-convert:hover {\n",
              "      background-color: #E2EBFA;\n",
              "      box-shadow: 0px 1px 2px rgba(60, 64, 67, 0.3), 0px 1px 3px 1px rgba(60, 64, 67, 0.15);\n",
              "      fill: #174EA6;\n",
              "    }\n",
              "\n",
              "    [theme=dark] .colab-df-convert {\n",
              "      background-color: #3B4455;\n",
              "      fill: #D2E3FC;\n",
              "    }\n",
              "\n",
              "    [theme=dark] .colab-df-convert:hover {\n",
              "      background-color: #434B5C;\n",
              "      box-shadow: 0px 1px 3px 1px rgba(0, 0, 0, 0.15);\n",
              "      filter: drop-shadow(0px 1px 2px rgba(0, 0, 0, 0.3));\n",
              "      fill: #FFFFFF;\n",
              "    }\n",
              "  </style>\n",
              "\n",
              "      <script>\n",
              "        const buttonEl =\n",
              "          document.querySelector('#df-4c560646-a483-4e27-b085-8f9b26704dc8 button.colab-df-convert');\n",
              "        buttonEl.style.display =\n",
              "          google.colab.kernel.accessAllowed ? 'block' : 'none';\n",
              "\n",
              "        async function convertToInteractive(key) {\n",
              "          const element = document.querySelector('#df-4c560646-a483-4e27-b085-8f9b26704dc8');\n",
              "          const dataTable =\n",
              "            await google.colab.kernel.invokeFunction('convertToInteractive',\n",
              "                                                     [key], {});\n",
              "          if (!dataTable) return;\n",
              "\n",
              "          const docLinkHtml = 'Like what you see? Visit the ' +\n",
              "            '<a target=\"_blank\" href=https://colab.research.google.com/notebooks/data_table.ipynb>data table notebook</a>'\n",
              "            + ' to learn more about interactive tables.';\n",
              "          element.innerHTML = '';\n",
              "          dataTable['output_type'] = 'display_data';\n",
              "          await google.colab.output.renderOutput(dataTable, element);\n",
              "          const docLink = document.createElement('div');\n",
              "          docLink.innerHTML = docLinkHtml;\n",
              "          element.appendChild(docLink);\n",
              "        }\n",
              "      </script>\n",
              "    </div>\n",
              "  </div>\n",
              "  "
            ]
          },
          "metadata": {},
          "execution_count": 4
        }
      ]
    },
    {
      "cell_type": "code",
      "source": [
        "california_housing.target.head()"
      ],
      "metadata": {
        "colab": {
          "base_uri": "https://localhost:8080/"
        },
        "id": "dsJnqPX8G7w9",
        "outputId": "faafe9fa-a86d-4cb7-a2c7-0681bf1ec805"
      },
      "execution_count": 5,
      "outputs": [
        {
          "output_type": "execute_result",
          "data": {
            "text/plain": [
              "0    4.526\n",
              "1    3.585\n",
              "2    3.521\n",
              "3    3.413\n",
              "4    3.422\n",
              "Name: MedHouseVal, dtype: float64"
            ]
          },
          "metadata": {},
          "execution_count": 5
        }
      ]
    },
    {
      "cell_type": "code",
      "execution_count": 22,
      "metadata": {
        "colab": {
          "base_uri": "https://localhost:8080/"
        },
        "id": "K5uDujeqviOH",
        "outputId": "a7620153-7b0e-48da-e2f0-aa772d42f645"
      },
      "outputs": [
        {
          "output_type": "stream",
          "name": "stdout",
          "text": [
            "no_of samples 20640\n",
            "(20640, 8)\n",
            "(20640,)\n",
            "[[ 8.32520000e+00  4.10000000e+01  6.98412698e+00  1.02380952e+00\n",
            "   3.22000000e+02  2.55555556e+00  3.78800000e+01 -1.22230000e+02]\n",
            " [ 8.30140000e+00  2.10000000e+01  6.23813708e+00  9.71880492e-01\n",
            "   2.40100000e+03  2.10984183e+00  3.78600000e+01 -1.22220000e+02]\n",
            " [ 7.25740000e+00  5.20000000e+01  8.28813559e+00  1.07344633e+00\n",
            "   4.96000000e+02  2.80225989e+00  3.78500000e+01 -1.22240000e+02]\n",
            " [ 5.64310000e+00  5.20000000e+01  5.81735160e+00  1.07305936e+00\n",
            "   5.58000000e+02  2.54794521e+00  3.78500000e+01 -1.22250000e+02]\n",
            " [ 3.84620000e+00  5.20000000e+01  6.28185328e+00  1.08108108e+00\n",
            "   5.65000000e+02  2.18146718e+00  3.78500000e+01 -1.22250000e+02]]\n",
            "[4.526 3.585 3.521 3.413 3.422]\n"
          ]
        }
      ],
      "source": [
        "# load California Housing Prices dataset\n",
        "housing = fetch_california_housing()\n",
        "X,Y = housing['data'], housing['target']\n",
        "nb_samples = X.shape[0];\n",
        "print(\"no_of samples\",nb_samples);\n",
        "print(X.shape)\n",
        "print(Y.shape)\n",
        "print(X[0:5])\n",
        "print(Y[0:5])"
      ]
    },
    {
      "cell_type": "markdown",
      "metadata": {
        "id": "sS7xCTZioeIK"
      },
      "source": [
        "Splitting data into training, validation and test sets:"
      ]
    },
    {
      "cell_type": "code",
      "execution_count": 24,
      "metadata": {
        "colab": {
          "base_uri": "https://localhost:8080/"
        },
        "id": "YWUhEmcaoYeW",
        "outputId": "d85d74c9-46d5-4639-cf8d-f3405fc765c1"
      },
      "outputs": [
        {
          "output_type": "stream",
          "name": "stdout",
          "text": [
            "Train Shape : (14448, 8), Valid Shape: (4128, 8) and Test Shape :  (2064, 8)\n"
          ]
        }
      ],
      "source": [
        "valid_split = 0.2\n",
        "test_split  = 0.1\n",
        "\n",
        "train_idx = round(X.shape[0] * 0.7)  # Final Index of Training\n",
        "v_point = train_idx + round(X.shape[0] * valid_split);# Final index of validation\n",
        "t_point = X.shape[0] - round(X.shape[0] * test_split); #index of Testing\n",
        "\n",
        "\n",
        "X_train = X[0:train_idx]\n",
        "Y_train = Y[0:train_idx]\n",
        "X_valid = X[train_idx : v_point]\n",
        "Y_valid = Y[train_idx: v_point]\n",
        "X_test  = X[t_point:]\n",
        "Y_test  = Y[t_point:]\n",
        "\n",
        "print( 'Train Shape : {}, Valid Shape: {} and Test Shape :  {}'.format(X_train.shape,X_valid.shape,X_test.shape));"
      ]
    },
    {
      "cell_type": "markdown",
      "metadata": {
        "id": "n6awn-6uogmo"
      },
      "source": [
        "Standardization of the data:"
      ]
    },
    {
      "cell_type": "code",
      "execution_count": 25,
      "metadata": {
        "colab": {
          "base_uri": "https://localhost:8080/"
        },
        "id": "XSNawE7Zob_Y",
        "outputId": "abcf63b9-1269-4913-c750-b5eba42663d0"
      },
      "outputs": [
        {
          "output_type": "stream",
          "name": "stdout",
          "text": [
            "[[ 2.39226764  0.94533597  0.56264611 -0.15256927 -0.97700902 -0.08784531\n",
            "   1.28178075 -1.69951072]\n",
            " [ 2.3797246  -0.66821373  0.29640629 -0.24760171  0.84467917 -0.16944829\n",
            "   1.27190927 -1.69405377]]\n"
          ]
        }
      ],
      "source": [
        "from sklearn.preprocessing import StandardScaler\n",
        "scaler  = StandardScaler();\n",
        "X_train = scaler.fit_transform(X_train)\n",
        "X_valid = scaler.fit_transform(X_valid)\n",
        "X_test  = scaler.fit_transform(X_test)\n",
        "print(X_train[0:2])"
      ]
    },
    {
      "cell_type": "markdown",
      "metadata": {
        "id": "MpBJFHZvu9m2"
      },
      "source": [
        "Defining the model (with one or two hidden layers and 8-64 neurons / layer, the input and output layers' sizes are defined by the data):"
      ]
    },
    {
      "cell_type": "code",
      "execution_count": 26,
      "metadata": {
        "id": "flEY3-qBorvA"
      },
      "outputs": [],
      "source": [
        "#<TODO> # model.add(....)\n",
        "model = Sequential()\n",
        "model.add(Dense(units=64,activation=\"relu\",kernel_initializer=HeNormal(),input_shape=(8,)))\n",
        "model.add(Dense(units=1))"
      ]
    },
    {
      "cell_type": "markdown",
      "metadata": {
        "id": "efZ6M0Yh3WlT"
      },
      "source": [
        "Inspect the model summary:"
      ]
    },
    {
      "cell_type": "code",
      "execution_count": 27,
      "metadata": {
        "colab": {
          "base_uri": "https://localhost:8080/"
        },
        "id": "LhfnanAm3X9l",
        "outputId": "b54b9629-f57f-41f1-dfb7-3b6147be58d4"
      },
      "outputs": [
        {
          "output_type": "stream",
          "name": "stdout",
          "text": [
            "Model: \"sequential_2\"\n",
            "_________________________________________________________________\n",
            " Layer (type)                Output Shape              Param #   \n",
            "=================================================================\n",
            " dense_6 (Dense)             (None, 64)                576       \n",
            "                                                                 \n",
            " dense_7 (Dense)             (None, 1)                 65        \n",
            "                                                                 \n",
            "=================================================================\n",
            "Total params: 641\n",
            "Trainable params: 641\n",
            "Non-trainable params: 0\n",
            "_________________________________________________________________\n"
          ]
        }
      ],
      "source": [
        "model.summary()"
      ]
    },
    {
      "cell_type": "markdown",
      "metadata": {
        "id": "h3hCd6Cf3ZS1"
      },
      "source": [
        "Number of trainable parameters in the model: TODO"
      ]
    },
    {
      "cell_type": "markdown",
      "metadata": {
        "id": "ibjhW3pAoveO"
      },
      "source": [
        "Compiling the model:"
      ]
    },
    {
      "cell_type": "code",
      "execution_count": 28,
      "metadata": {
        "id": "ztxln4VUow5q"
      },
      "outputs": [],
      "source": [
        "model.compile(loss=\"mae\",optimizer='Adam',metrics=['mae'])"
      ]
    },
    {
      "cell_type": "markdown",
      "metadata": {
        "id": "zfmN2ROJo4xq"
      },
      "source": [
        "Defining the earlystopping callback function:"
      ]
    },
    {
      "cell_type": "code",
      "execution_count": 31,
      "metadata": {
        "id": "fhQMRIhio3Js"
      },
      "outputs": [],
      "source": [
        "es = EarlyStopping(patience=3, restore_best_weights=True, monitor='val_mae')"
      ]
    },
    {
      "cell_type": "markdown",
      "metadata": {
        "id": "JqJNQCtB2k08"
      },
      "source": [
        "Train the model, use training and validation data and apply early stopping:"
      ]
    },
    {
      "cell_type": "code",
      "execution_count": 32,
      "metadata": {
        "colab": {
          "base_uri": "https://localhost:8080/"
        },
        "id": "oWDGwe862kQj",
        "outputId": "fdb0ff1d-0925-4231-8716-4778fe25dabc"
      },
      "outputs": [
        {
          "output_type": "stream",
          "name": "stdout",
          "text": [
            "Epoch 1/25\n",
            "452/452 [==============================] - 1s 2ms/step - loss: 0.7004 - mae: 0.7004 - val_loss: 1.1106 - val_mae: 1.1106\n",
            "Epoch 2/25\n",
            "452/452 [==============================] - 1s 2ms/step - loss: 0.4649 - mae: 0.4649 - val_loss: 0.9326 - val_mae: 0.9326\n",
            "Epoch 3/25\n",
            "452/452 [==============================] - 1s 2ms/step - loss: 0.4266 - mae: 0.4266 - val_loss: 0.9087 - val_mae: 0.9087\n",
            "Epoch 4/25\n",
            "452/452 [==============================] - 1s 2ms/step - loss: 0.4134 - mae: 0.4134 - val_loss: 0.8926 - val_mae: 0.8926\n",
            "Epoch 5/25\n",
            "452/452 [==============================] - 1s 2ms/step - loss: 0.4055 - mae: 0.4055 - val_loss: 0.8943 - val_mae: 0.8943\n",
            "Epoch 6/25\n",
            "452/452 [==============================] - 1s 2ms/step - loss: 0.3998 - mae: 0.3998 - val_loss: 0.9119 - val_mae: 0.9119\n",
            "Epoch 7/25\n",
            "452/452 [==============================] - 1s 2ms/step - loss: 0.3940 - mae: 0.3940 - val_loss: 0.9032 - val_mae: 0.9032\n"
          ]
        },
        {
          "output_type": "execute_result",
          "data": {
            "text/plain": [
              "<keras.callbacks.History at 0x7f96ba01ae10>"
            ]
          },
          "metadata": {},
          "execution_count": 32
        }
      ],
      "source": [
        "model.fit(X_train,Y_train,verbose=1,epochs=25\n",
        "          ,validation_data=(X_valid,Y_valid),callbacks=[es])"
      ]
    },
    {
      "cell_type": "markdown",
      "metadata": {
        "id": "pCaNGjzQ2m9D"
      },
      "source": [
        "Evaluate on the test data:"
      ]
    },
    {
      "cell_type": "code",
      "execution_count": 33,
      "metadata": {
        "colab": {
          "base_uri": "https://localhost:8080/"
        },
        "id": "_MDJut_b3-6Q",
        "outputId": "cb8d1357-633b-41e9-a900-20e8e98ddcd3"
      },
      "outputs": [
        {
          "output_type": "stream",
          "name": "stdout",
          "text": [
            "65/65 [==============================] - 0s 2ms/step - loss: 0.5207 - mae: 0.5207\n"
          ]
        },
        {
          "output_type": "execute_result",
          "data": {
            "text/plain": [
              "[0.5207242369651794, 0.5207242369651794]"
            ]
          },
          "metadata": {},
          "execution_count": 33
        }
      ],
      "source": [
        "model.evaluate(X_test,Y_test)"
      ]
    },
    {
      "cell_type": "markdown",
      "metadata": {
        "id": "Gtd_UnfN4TPP"
      },
      "source": [
        "Make predictions:"
      ]
    },
    {
      "cell_type": "code",
      "execution_count": 34,
      "metadata": {
        "id": "OhghFnnf4VA1"
      },
      "outputs": [],
      "source": [
        "preds = model.predict(X_test)"
      ]
    },
    {
      "cell_type": "markdown",
      "metadata": {
        "id": "cZkVPySYAddP"
      },
      "source": [
        "Inspecting the result on a regression plot:"
      ]
    },
    {
      "cell_type": "code",
      "execution_count": 35,
      "metadata": {
        "colab": {
          "base_uri": "https://localhost:8080/",
          "height": 596
        },
        "id": "Uzv3YtGlAcl6",
        "outputId": "10af3920-0b17-4167-adf8-1f33f27d1d8e"
      },
      "outputs": [
        {
          "output_type": "display_data",
          "data": {
            "text/plain": [
              "<Figure size 720x720 with 1 Axes>"
            ],
            "image/png": "[encoded data removed]"
          },
          "metadata": {
            "needs_background": "light"
          }
        }
      ],
      "source": [
        "plt.figure(figsize=(10,10))\n",
        "sns.regplot(x=Y_test.reshape(-1), y=preds.reshape(-1)).set(xlim=(0,5),ylim=(0,5)); "
      ]
    },
    {
      "cell_type": "code",
      "execution_count": null,
      "metadata": {
        "id": "BQzXKbrsBtY1"
      },
      "outputs": [],
      "source": [
        ""
      ]
    }
  ],
  "metadata": {
    "colab": {
      "collapsed_sections": [],
      "name": "AIT_Deep_learning_Assigment_2.ipynb",
      "provenance": [],
      "toc_visible": true
    },
    "kernelspec": {
      "display_name": "Python 3",
      "language": "python",
      "name": "python3"
    },
    "language_info": {
      "codemirror_mode": {
        "name": "ipython",
        "version": 3
      },
      "file_extension": ".py",
      "mimetype": "text/x-python",
      "name": "python",
      "nbconvert_exporter": "python",
      "pygments_lexer": "ipython3",
      "version": "3.6.6"
    }
  },
  "nbformat": 4,
  "nbformat_minor": 0
}