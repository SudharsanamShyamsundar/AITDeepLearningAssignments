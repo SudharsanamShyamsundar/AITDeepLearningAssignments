{
  "cells": [
    {
      "cell_type": "markdown",
      "metadata": {
        "id": "_jiGtJu6u9ml"
      },
      "source": [
        "# Copyright\n",
        "\n",
        "<PRE>\n",
        "Copyright (c) 2022 Bálint Gyires-Tóth - All Rights Reserved\n",
        "You may use and modify this code for research and development purpuses.\n",
        "Use this code for educational purposes (self-paced or instructor led) without the permission of the author is prohibited.\n",
        "</PRE>"
      ]
    },
    {
      "cell_type": "markdown",
      "metadata": {
        "id": "oXyFC44jV-PP"
      },
      "source": [
        "\n",
        "\n",
        "# California housing prices - modeling\n",
        "In this notebook we will: \n",
        "* using California housing prices data (https://www.kaggle.com/camnugent/california-housing-prices)\n",
        "* exploring the data\n",
        "* creating a model\n",
        "* training the model\n",
        "* evaluation on test data\n",
        "* making predictions and regression plot\n",
        "\n",
        "Assigment: \n",
        "* please complete TODO parts\n"
      ]
    },
    {
      "cell_type": "code",
      "execution_count": 1,
      "metadata": {
        "id": "jLX73EvBu9ms"
      },
      "outputs": [],
      "source": [
        "import matplotlib.pyplot as plt\n",
        "import seaborn as sns\n",
        "import numpy as np\n",
        "import pandas as pd\n",
        "import matplotlib.pyplot as plt \n",
        "from sklearn import preprocessing\n",
        "from sklearn.datasets import fetch_california_housing\n"
      ]
    },
    {
      "cell_type": "code",
      "execution_count": 2,
      "metadata": {
        "id": "Ba-K0MyGoNay"
      },
      "outputs": [],
      "source": [
        "#<TODO> # Keras imports : model, layers, optimizers\n",
        "from tensorflow.keras.models import Sequential\n",
        "from tensorflow.keras.layers import Dense,Dropout\n",
        "from tensorflow.keras.optimizers import SGD, Adam \n",
        "from tensorflow.keras.initializers import HeNormal\n",
        "from tensorflow.keras.callbacks import EarlyStopping \n",
        "\n"
      ]
    },
    {
      "cell_type": "code",
      "source": [
        "california_housing = fetch_california_housing(as_frame=True)\n",
        "california_housing.data.head()\n"
      ],
      "metadata": {
        "colab": {
          "base_uri": "https://localhost:8080/",
          "height": 206
        },
        "id": "vFzhF9jjEhOP",
        "outputId": "a944b339-cd40-4908-9646-f34eee79d23d"
      },
      "execution_count": 4,
      "outputs": [
        {
          "output_type": "execute_result",
          "data": {
            "text/plain": [
              "   MedInc  HouseAge  AveRooms  AveBedrms  Population  AveOccup  Latitude  \\\n",
              "0  8.3252      41.0  6.984127   1.023810       322.0  2.555556     37.88   \n",
              "1  8.3014      21.0  6.238137   0.971880      2401.0  2.109842     37.86   \n",
              "2  7.2574      52.0  8.288136   1.073446       496.0  2.802260     37.85   \n",
              "3  5.6431      52.0  5.817352   1.073059       558.0  2.547945     37.85   \n",
              "4  3.8462      52.0  6.281853   1.081081       565.0  2.181467     37.85   \n",
              "\n",
              "   Longitude  \n",
              "0    -122.23  \n",
              "1    -122.22  \n",
              "2    -122.24  \n",
              "3    -122.25  \n",
              "4    -122.25  "
            ],
            "text/html": [
              "\n",
              "  <div id=\"df-4c560646-a483-4e27-b085-8f9b26704dc8\">\n",
              "    <div class=\"colab-df-container\">\n",
              "      <div>\n",
              "<style scoped>\n",
              "    .dataframe tbody tr th:only-of-type {\n",
              "        vertical-align: middle;\n",
              "    }\n",
              "\n",
              "    .dataframe tbody tr th {\n",
              "        vertical-align: top;\n",
              "    }\n",
              "\n",
              "    .dataframe thead th {\n",
              "        text-align: right;\n",
              "    }\n",
              "</style>\n",
              "<table border=\"1\" class=\"dataframe\">\n",
              "  <thead>\n",
              "    <tr style=\"text-align: right;\">\n",
              "      <th></th>\n",
              "      <th>MedInc</th>\n",
              "      <th>HouseAge</th>\n",
              "      <th>AveRooms</th>\n",
              "      <th>AveBedrms</th>\n",
              "      <th>Population</th>\n",
              "      <th>AveOccup</th>\n",
              "      <th>Latitude</th>\n",
              "      <th>Longitude</th>\n",
              "    </tr>\n",
              "  </thead>\n",
              "  <tbody>\n",
              "    <tr>\n",
              "      <th>0</th>\n",
              "      <td>8.3252</td>\n",
              "      <td>41.0</td>\n",
              "      <td>6.984127</td>\n",
              "      <td>1.023810</td>\n",
              "      <td>322.0</td>\n",
              "      <td>2.555556</td>\n",
              "      <td>37.88</td>\n",
              "      <td>-122.23</td>\n",
              "    </tr>\n",
              "    <tr>\n",
              "      <th>1</th>\n",
              "      <td>8.3014</td>\n",
              "      <td>21.0</td>\n",
              "      <td>6.238137</td>\n",
              "      <td>0.971880</td>\n",
              "      <td>2401.0</td>\n",
              "      <td>2.109842</td>\n",
              "      <td>37.86</td>\n",
              "      <td>-122.22</td>\n",
              "    </tr>\n",
              "    <tr>\n",
              "      <th>2</th>\n",
              "      <td>7.2574</td>\n",
              "      <td>52.0</td>\n",
              "      <td>8.288136</td>\n",
              "      <td>1.073446</td>\n",
              "      <td>496.0</td>\n",
              "      <td>2.802260</td>\n",
              "      <td>37.85</td>\n",
              "      <td>-122.24</td>\n",
              "    </tr>\n",
              "    <tr>\n",
              "      <th>3</th>\n",
              "      <td>5.6431</td>\n",
              "      <td>52.0</td>\n",
              "      <td>5.817352</td>\n",
              "      <td>1.073059</td>\n",
              "      <td>558.0</td>\n",
              "      <td>2.547945</td>\n",
              "      <td>37.85</td>\n",
              "      <td>-122.25</td>\n",
              "    </tr>\n",
              "    <tr>\n",
              "      <th>4</th>\n",
              "      <td>3.8462</td>\n",
              "      <td>52.0</td>\n",
              "      <td>6.281853</td>\n",
              "      <td>1.081081</td>\n",
              "      <td>565.0</td>\n",
              "      <td>2.181467</td>\n",
              "      <td>37.85</td>\n",
              "      <td>-122.25</td>\n",
              "    </tr>\n",
              "  </tbody>\n",
              "</table>\n",
              "</div>\n",
              "      <button class=\"colab-df-convert\" onclick=\"convertToInteractive('df-4c560646-a483-4e27-b085-8f9b26704dc8')\"\n",
              "              title=\"Convert this dataframe to an interactive table.\"\n",
              "              style=\"display:none;\">\n",
              "        \n",
              "  <svg xmlns=\"http://www.w3.org/2000/svg\" height=\"24px\"viewBox=\"0 0 24 24\"\n",
              "       width=\"24px\">\n",
              "    <path d=\"M0 0h24v24H0V0z\" fill=\"none\"/>\n",
              "    <path d=\"M18.56 5.44l.94 2.06.94-2.06 2.06-.94-2.06-.94-.94-2.06-.94 2.06-2.06.94zm-11 1L8.5 8.5l.94-2.06 2.06-.94-2.06-.94L8.5 2.5l-.94 2.06-2.06.94zm10 10l.94 2.06.94-2.06 2.06-.94-2.06-.94-.94-2.06-.94 2.06-2.06.94z\"/><path d=\"M17.41 7.96l-1.37-1.37c-.4-.4-.92-.59-1.43-.59-.52 0-1.04.2-1.43.59L10.3 9.45l-7.72 7.72c-.78.78-.78 2.05 0 2.83L4 21.41c.39.39.9.59 1.41.59.51 0 1.02-.2 1.41-.59l7.78-7.78 2.81-2.81c.8-.78.8-2.07 0-2.86zM5.41 20L4 18.59l7.72-7.72 1.47 1.35L5.41 20z\"/>\n",
              "  </svg>\n",
              "      </button>\n",
              "      \n",
              "  <style>\n",
              "    .colab-df-container {\n",
              "      display:flex;\n",
              "      flex-wrap:wrap;\n",
              "      gap: 12px;\n",
              "    }\n",
              "\n",
              "    .colab-df-convert {\n",
              "      background-color: #E8F0FE;\n",
              "      border: none;\n",
              "      border-radius: 50%;\n",
              "      cursor: pointer;\n",
              "      display: none;\n",
              "      fill: #1967D2;\n",
              "      height: 32px;\n",
              "      padding: 0 0 0 0;\n",
              "      width: 32px;\n",
              "    }\n",
              "\n",
              "    .colab-df-convert:hover {\n",
              "      background-color: #E2EBFA;\n",
              "      box-shadow: 0px 1px 2px rgba(60, 64, 67, 0.3), 0px 1px 3px 1px rgba(60, 64, 67, 0.15);\n",
              "      fill: #174EA6;\n",
              "    }\n",
              "\n",
              "    [theme=dark] .colab-df-convert {\n",
              "      background-color: #3B4455;\n",
              "      fill: #D2E3FC;\n",
              "    }\n",
              "\n",
              "    [theme=dark] .colab-df-convert:hover {\n",
              "      background-color: #434B5C;\n",
              "      box-shadow: 0px 1px 3px 1px rgba(0, 0, 0, 0.15);\n",
              "      filter: drop-shadow(0px 1px 2px rgba(0, 0, 0, 0.3));\n",
              "      fill: #FFFFFF;\n",
              "    }\n",
              "  </style>\n",
              "\n",
              "      <script>\n",
              "        const buttonEl =\n",
              "          document.querySelector('#df-4c560646-a483-4e27-b085-8f9b26704dc8 button.colab-df-convert');\n",
              "        buttonEl.style.display =\n",
              "          google.colab.kernel.accessAllowed ? 'block' : 'none';\n",
              "\n",
              "        async function convertToInteractive(key) {\n",
              "          const element = document.querySelector('#df-4c560646-a483-4e27-b085-8f9b26704dc8');\n",
              "          const dataTable =\n",
              "            await google.colab.kernel.invokeFunction('convertToInteractive',\n",
              "                                                     [key], {});\n",
              "          if (!dataTable) return;\n",
              "\n",
              "          const docLinkHtml = 'Like what you see? Visit the ' +\n",
              "            '<a target=\"_blank\" href=https://colab.research.google.com/notebooks/data_table.ipynb>data table notebook</a>'\n",
              "            + ' to learn more about interactive tables.';\n",
              "          element.innerHTML = '';\n",
              "          dataTable['output_type'] = 'display_data';\n",
              "          await google.colab.output.renderOutput(dataTable, element);\n",
              "          const docLink = document.createElement('div');\n",
              "          docLink.innerHTML = docLinkHtml;\n",
              "          element.appendChild(docLink);\n",
              "        }\n",
              "      </script>\n",
              "    </div>\n",
              "  </div>\n",
              "  "
            ]
          },
          "metadata": {},
          "execution_count": 4
        }
      ]
    },
    {
      "cell_type": "code",
      "source": [
        "california_housing.target.head()"
      ],
      "metadata": {
        "colab": {
          "base_uri": "https://localhost:8080/"
        },
        "id": "dsJnqPX8G7w9",
        "outputId": "faafe9fa-a86d-4cb7-a2c7-0681bf1ec805"
      },
      "execution_count": 5,
      "outputs": [
        {
          "output_type": "execute_result",
          "data": {
            "text/plain": [
              "0    4.526\n",
              "1    3.585\n",
              "2    3.521\n",
              "3    3.413\n",
              "4    3.422\n",
              "Name: MedHouseVal, dtype: float64"
            ]
          },
          "metadata": {},
          "execution_count": 5
        }
      ]
    },
    {
      "cell_type": "code",
      "execution_count": 6,
      "metadata": {
        "colab": {
          "base_uri": "https://localhost:8080/"
        },
        "id": "K5uDujeqviOH",
        "outputId": "bd2d2dc4-0679-4326-d205-e5413e810f54"
      },
      "outputs": [
        {
          "output_type": "stream",
          "name": "stdout",
          "text": [
            "no_of samples 20640\n",
            "(20640, 8)\n",
            "(20640,)\n",
            "[[ 8.32520000e+00  4.10000000e+01  6.98412698e+00  1.02380952e+00\n",
            "   3.22000000e+02  2.55555556e+00  3.78800000e+01 -1.22230000e+02]\n",
            " [ 8.30140000e+00  2.10000000e+01  6.23813708e+00  9.71880492e-01\n",
            "   2.40100000e+03  2.10984183e+00  3.78600000e+01 -1.22220000e+02]\n",
            " [ 7.25740000e+00  5.20000000e+01  8.28813559e+00  1.07344633e+00\n",
            "   4.96000000e+02  2.80225989e+00  3.78500000e+01 -1.22240000e+02]\n",
            " [ 5.64310000e+00  5.20000000e+01  5.81735160e+00  1.07305936e+00\n",
            "   5.58000000e+02  2.54794521e+00  3.78500000e+01 -1.22250000e+02]\n",
            " [ 3.84620000e+00  5.20000000e+01  6.28185328e+00  1.08108108e+00\n",
            "   5.65000000e+02  2.18146718e+00  3.78500000e+01 -1.22250000e+02]]\n",
            "[4.526 3.585 3.521 3.413 3.422]\n"
          ]
        }
      ],
      "source": [
        "# load California Housing Prices dataset\n",
        "housing = fetch_california_housing()\n",
        "X,Y = housing['data'], housing['target']\n",
        "nb_samples = X.shape[0];\n",
        "print(\"no_of samples\",nb_samples);\n",
        "print(X.shape)\n",
        "print(Y.shape)\n",
        "print(X[0:5])\n",
        "print(Y[0:5])"
      ]
    },
    {
      "cell_type": "markdown",
      "metadata": {
        "id": "sS7xCTZioeIK"
      },
      "source": [
        "Splitting data into training, validation and test sets:"
      ]
    },
    {
      "cell_type": "code",
      "execution_count": 7,
      "metadata": {
        "colab": {
          "base_uri": "https://localhost:8080/"
        },
        "id": "YWUhEmcaoYeW",
        "outputId": "8d9107b6-4289-4a37-ecf3-182522297c2b"
      },
      "outputs": [
        {
          "output_type": "stream",
          "name": "stdout",
          "text": [
            "Train Shape : (14447, 8), Valid Shape: (4128, 8) and Test Shape :  (2064, 8)\n"
          ]
        }
      ],
      "source": [
        "valid_split = 0.2\n",
        "test_split  = 0.1\n",
        "\n",
        "train_idx = int(X.shape[0] * 0.7)  # Final Index of Training\n",
        "v_point = train_idx + int(X.shape[0] * valid_split);# Final index of validation\n",
        "t_point = X.shape[0] - int(X.shape[0] * test_split); #index of Testing\n",
        "\n",
        "\n",
        "X_train = X[0:train_idx]\n",
        "Y_train = Y[0:train_idx]\n",
        "X_valid = X[train_idx : v_point]\n",
        "Y_valid = Y[train_idx: v_point]\n",
        "X_test  = X[t_point:]\n",
        "Y_test  = Y[t_point:]\n",
        "\n",
        "print( 'Train Shape : {}, Valid Shape: {} and Test Shape :  {}'.format(X_train.shape,X_valid.shape,X_test.shape));"
      ]
    },
    {
      "cell_type": "markdown",
      "metadata": {
        "id": "n6awn-6uogmo"
      },
      "source": [
        "Standardization of the data:"
      ]
    },
    {
      "cell_type": "code",
      "execution_count": 8,
      "metadata": {
        "colab": {
          "base_uri": "https://localhost:8080/"
        },
        "id": "XSNawE7Zob_Y",
        "outputId": "4bed3294-81ea-462a-9631-83f69b5478d7"
      },
      "outputs": [
        {
          "output_type": "stream",
          "name": "stdout",
          "text": [
            "[[ 2.39253149  0.94534215  0.56268252 -0.15255258 -0.97704437 -0.0878513\n",
            "   1.281718   -1.69944133]\n",
            " [ 2.37998767 -0.66816359  0.29644768 -0.24758181  0.84461485 -0.1694515\n",
            "   1.27184635 -1.69398438]]\n"
          ]
        }
      ],
      "source": [
        "from sklearn.preprocessing import StandardScaler\n",
        "scaler  = StandardScaler();\n",
        "X_train = scaler.fit_transform(X_train)\n",
        "X_valid = scaler.fit_transform(X_valid)\n",
        "X_test  = scaler.fit_transform(X_test)\n",
        "print(X_train[0:2])"
      ]
    },
    {
      "cell_type": "markdown",
      "metadata": {
        "id": "MpBJFHZvu9m2"
      },
      "source": [
        "Defining the model (with one or two hidden layers and 8-64 neurons / layer, the input and output layers' sizes are defined by the data):"
      ]
    },
    {
      "cell_type": "code",
      "execution_count": 14,
      "metadata": {
        "id": "flEY3-qBorvA"
      },
      "outputs": [],
      "source": [
        "model = Sequential()\n",
        "model.add(Dense(units=50,activation=\"relu\",kernel_initializer=HeNormal(),input_shape=(8,)))\n",
        "model.add(Dense(units=40,activation=\"relu\",kernel_initializer=HeNormal(),input_shape=(8,)))\n",
        "#model.add(Dropout(0.2))\n",
        "#model.add(Dense(units=64, activation='relu',kernel_initializer=HeNormal()))\n",
        "#model.add(Dropout(0.2))\n",
        "#model.add(Dense(units=64, activation='relu',kernel_initializer=HeNormal())) \n",
        "model.add(Dense(units=1))\n",
        "#<TODO> # model.add(....)"
      ]
    },
    {
      "cell_type": "markdown",
      "metadata": {
        "id": "efZ6M0Yh3WlT"
      },
      "source": [
        "Inspect the model summary:"
      ]
    },
    {
      "cell_type": "code",
      "execution_count": 15,
      "metadata": {
        "colab": {
          "base_uri": "https://localhost:8080/"
        },
        "id": "LhfnanAm3X9l",
        "outputId": "1cdc72e4-ff22-4f6d-ef85-c9304f0d339c"
      },
      "outputs": [
        {
          "output_type": "stream",
          "name": "stdout",
          "text": [
            "Model: \"sequential_1\"\n",
            "_________________________________________________________________\n",
            " Layer (type)                Output Shape              Param #   \n",
            "=================================================================\n",
            " dense_3 (Dense)             (None, 50)                450       \n",
            "                                                                 \n",
            " dense_4 (Dense)             (None, 40)                2040      \n",
            "                                                                 \n",
            " dense_5 (Dense)             (None, 1)                 41        \n",
            "                                                                 \n",
            "=================================================================\n",
            "Total params: 2,531\n",
            "Trainable params: 2,531\n",
            "Non-trainable params: 0\n",
            "_________________________________________________________________\n"
          ]
        }
      ],
      "source": [
        "model.summary()"
      ]
    },
    {
      "cell_type": "markdown",
      "metadata": {
        "id": "h3hCd6Cf3ZS1"
      },
      "source": [
        "Number of trainable parameters in the model: TODO"
      ]
    },
    {
      "cell_type": "markdown",
      "metadata": {
        "id": "ibjhW3pAoveO"
      },
      "source": [
        "Compiling the model:"
      ]
    },
    {
      "cell_type": "code",
      "execution_count": 16,
      "metadata": {
        "id": "ztxln4VUow5q"
      },
      "outputs": [],
      "source": [
        "from tensorflow.keras.metrics import  RootMeanSquaredError\n",
        "#sgdWithMom = SGD(learning_rate=0.01,momentum=0.01)\n",
        "rmse=RootMeanSquaredError();\n",
        "sgd = SGD(learning_rate = 0.0075 );\n",
        "#Adam = Adam(learning_rate=0.005)\n",
        "model.compile(loss=\"mae\",optimizer='Adam',metrics=['mse','mae',rmse])"
      ]
    },
    {
      "cell_type": "markdown",
      "metadata": {
        "id": "zfmN2ROJo4xq"
      },
      "source": [
        "Defining the earlystopping callback function:"
      ]
    },
    {
      "cell_type": "code",
      "execution_count": 12,
      "metadata": {
        "id": "fhQMRIhio3Js"
      },
      "outputs": [],
      "source": [
        "es = EarlyStopping(patience=3)#, restore_best_weights=True, monitor='val_mse')"
      ]
    },
    {
      "cell_type": "markdown",
      "metadata": {
        "id": "JqJNQCtB2k08"
      },
      "source": [
        "Train the model, use training and validation data and apply early stopping:"
      ]
    },
    {
      "cell_type": "code",
      "execution_count": 17,
      "metadata": {
        "colab": {
          "base_uri": "https://localhost:8080/"
        },
        "id": "oWDGwe862kQj",
        "outputId": "3b5aa447-7c53-41e1-f9fa-e0572d242dca"
      },
      "outputs": [
        {
          "output_type": "stream",
          "name": "stdout",
          "text": [
            "Epoch 1/25\n",
            "452/452 [==============================] - 1s 2ms/step - loss: 0.6380 - mse: 1.0972 - mae: 0.6380 - root_mean_squared_error: 1.0475 - val_loss: 1.0596 - val_mse: 1.7450 - val_mae: 1.0596 - val_root_mean_squared_error: 1.3210\n",
            "Epoch 2/25\n",
            "452/452 [==============================] - 1s 2ms/step - loss: 0.4321 - mse: 0.4318 - mae: 0.4321 - root_mean_squared_error: 0.6571 - val_loss: 0.9718 - val_mse: 1.5764 - val_mae: 0.9718 - val_root_mean_squared_error: 1.2555\n",
            "Epoch 3/25\n",
            "452/452 [==============================] - 1s 2ms/step - loss: 0.4035 - mse: 0.3683 - mae: 0.4035 - root_mean_squared_error: 0.6069 - val_loss: 0.9790 - val_mse: 1.5752 - val_mae: 0.9790 - val_root_mean_squared_error: 1.2551\n",
            "Epoch 4/25\n",
            "452/452 [==============================] - 1s 2ms/step - loss: 0.3858 - mse: 0.3333 - mae: 0.3858 - root_mean_squared_error: 0.5773 - val_loss: 0.9874 - val_mse: 1.6058 - val_mae: 0.9874 - val_root_mean_squared_error: 1.2672\n",
            "Epoch 5/25\n",
            "452/452 [==============================] - 1s 2ms/step - loss: 0.3768 - mse: 0.3437 - mae: 0.3768 - root_mean_squared_error: 0.5863 - val_loss: 0.9885 - val_mse: 1.5761 - val_mae: 0.9885 - val_root_mean_squared_error: 1.2554\n",
            "Epoch 6/25\n",
            "452/452 [==============================] - 1s 2ms/step - loss: 0.3673 - mse: 0.3051 - mae: 0.3673 - root_mean_squared_error: 0.5524 - val_loss: 1.0055 - val_mse: 1.6954 - val_mae: 1.0055 - val_root_mean_squared_error: 1.3021\n",
            "Epoch 7/25\n",
            "452/452 [==============================] - 1s 2ms/step - loss: 0.3629 - mse: 0.3043 - mae: 0.3629 - root_mean_squared_error: 0.5517 - val_loss: 0.9880 - val_mse: 1.6528 - val_mae: 0.9880 - val_root_mean_squared_error: 1.2856\n",
            "Epoch 8/25\n",
            "452/452 [==============================] - 1s 2ms/step - loss: 0.3595 - mse: 0.2972 - mae: 0.3595 - root_mean_squared_error: 0.5452 - val_loss: 1.0037 - val_mse: 1.6681 - val_mae: 1.0037 - val_root_mean_squared_error: 1.2915\n",
            "Epoch 9/25\n",
            "452/452 [==============================] - 1s 2ms/step - loss: 0.3545 - mse: 0.2934 - mae: 0.3545 - root_mean_squared_error: 0.5417 - val_loss: 1.0153 - val_mse: 1.6951 - val_mae: 1.0153 - val_root_mean_squared_error: 1.3019\n",
            "Epoch 10/25\n",
            "452/452 [==============================] - 1s 2ms/step - loss: 0.3523 - mse: 0.3400 - mae: 0.3523 - root_mean_squared_error: 0.5831 - val_loss: 0.9860 - val_mse: 1.5624 - val_mae: 0.9860 - val_root_mean_squared_error: 1.2500\n",
            "Epoch 11/25\n",
            "452/452 [==============================] - 1s 2ms/step - loss: 0.3473 - mse: 0.2805 - mae: 0.3473 - root_mean_squared_error: 0.5297 - val_loss: 1.0600 - val_mse: 1.7657 - val_mae: 1.0600 - val_root_mean_squared_error: 1.3288\n",
            "Epoch 12/25\n",
            "452/452 [==============================] - 1s 2ms/step - loss: 0.3465 - mse: 0.2836 - mae: 0.3465 - root_mean_squared_error: 0.5326 - val_loss: 1.0124 - val_mse: 1.6280 - val_mae: 1.0124 - val_root_mean_squared_error: 1.2759\n",
            "Epoch 13/25\n",
            "452/452 [==============================] - 1s 2ms/step - loss: 0.3435 - mse: 0.2768 - mae: 0.3435 - root_mean_squared_error: 0.5261 - val_loss: 1.0548 - val_mse: 1.7878 - val_mae: 1.0548 - val_root_mean_squared_error: 1.3371\n",
            "Epoch 14/25\n",
            "452/452 [==============================] - 1s 2ms/step - loss: 0.3443 - mse: 0.2965 - mae: 0.3443 - root_mean_squared_error: 0.5445 - val_loss: 1.0124 - val_mse: 1.6658 - val_mae: 1.0124 - val_root_mean_squared_error: 1.2906\n",
            "Epoch 15/25\n",
            "452/452 [==============================] - 1s 2ms/step - loss: 0.3412 - mse: 0.2761 - mae: 0.3412 - root_mean_squared_error: 0.5254 - val_loss: 1.0605 - val_mse: 1.8073 - val_mae: 1.0605 - val_root_mean_squared_error: 1.3444\n",
            "Epoch 16/25\n",
            "452/452 [==============================] - 1s 2ms/step - loss: 0.3382 - mse: 0.2782 - mae: 0.3382 - root_mean_squared_error: 0.5275 - val_loss: 1.0298 - val_mse: 1.6870 - val_mae: 1.0298 - val_root_mean_squared_error: 1.2989\n",
            "Epoch 17/25\n",
            "452/452 [==============================] - 1s 2ms/step - loss: 0.3366 - mse: 0.2761 - mae: 0.3366 - root_mean_squared_error: 0.5254 - val_loss: 1.0592 - val_mse: 1.7758 - val_mae: 1.0592 - val_root_mean_squared_error: 1.3326\n",
            "Epoch 18/25\n",
            "452/452 [==============================] - 1s 2ms/step - loss: 0.3355 - mse: 0.2687 - mae: 0.3355 - root_mean_squared_error: 0.5183 - val_loss: 1.1101 - val_mse: 1.9463 - val_mae: 1.1101 - val_root_mean_squared_error: 1.3951\n",
            "Epoch 19/25\n",
            "452/452 [==============================] - 1s 2ms/step - loss: 0.3335 - mse: 0.2659 - mae: 0.3335 - root_mean_squared_error: 0.5156 - val_loss: 1.0504 - val_mse: 1.7723 - val_mae: 1.0504 - val_root_mean_squared_error: 1.3313\n",
            "Epoch 20/25\n",
            "452/452 [==============================] - 1s 2ms/step - loss: 0.3337 - mse: 0.2939 - mae: 0.3337 - root_mean_squared_error: 0.5422 - val_loss: 1.0453 - val_mse: 1.7135 - val_mae: 1.0453 - val_root_mean_squared_error: 1.3090\n",
            "Epoch 21/25\n",
            "452/452 [==============================] - 1s 2ms/step - loss: 0.3309 - mse: 0.2644 - mae: 0.3309 - root_mean_squared_error: 0.5142 - val_loss: 1.0573 - val_mse: 1.7960 - val_mae: 1.0573 - val_root_mean_squared_error: 1.3401\n",
            "Epoch 22/25\n",
            "452/452 [==============================] - 1s 2ms/step - loss: 0.3299 - mse: 0.2628 - mae: 0.3299 - root_mean_squared_error: 0.5127 - val_loss: 1.0656 - val_mse: 1.7801 - val_mae: 1.0656 - val_root_mean_squared_error: 1.3342\n",
            "Epoch 23/25\n",
            "452/452 [==============================] - 1s 2ms/step - loss: 0.3290 - mse: 0.2648 - mae: 0.3290 - root_mean_squared_error: 0.5146 - val_loss: 1.0602 - val_mse: 1.7924 - val_mae: 1.0602 - val_root_mean_squared_error: 1.3388\n",
            "Epoch 24/25\n",
            "452/452 [==============================] - 1s 2ms/step - loss: 0.3260 - mse: 0.2573 - mae: 0.3260 - root_mean_squared_error: 0.5073 - val_loss: 1.0378 - val_mse: 1.7454 - val_mae: 1.0378 - val_root_mean_squared_error: 1.3211\n",
            "Epoch 25/25\n",
            "452/452 [==============================] - 1s 2ms/step - loss: 0.3273 - mse: 0.2703 - mae: 0.3273 - root_mean_squared_error: 0.5199 - val_loss: 1.0769 - val_mse: 1.8640 - val_mae: 1.0769 - val_root_mean_squared_error: 1.3653\n"
          ]
        },
        {
          "output_type": "execute_result",
          "data": {
            "text/plain": [
              "<keras.callbacks.History at 0x7f96b88f29d0>"
            ]
          },
          "metadata": {},
          "execution_count": 17
        }
      ],
      "source": [
        "model.fit(X_train,Y_train,verbose=1,epochs=25\n",
        "          ,validation_data=(X_valid,Y_valid))#,callbacks=[es])"
      ]
    },
    {
      "cell_type": "markdown",
      "metadata": {
        "id": "pCaNGjzQ2m9D"
      },
      "source": [
        "Evaluate on the test data:"
      ]
    },
    {
      "cell_type": "code",
      "execution_count": 18,
      "metadata": {
        "colab": {
          "base_uri": "https://localhost:8080/"
        },
        "id": "_MDJut_b3-6Q",
        "outputId": "d966148f-f7f4-4799-896b-24fd11d583bd"
      },
      "outputs": [
        {
          "output_type": "stream",
          "name": "stdout",
          "text": [
            "65/65 [==============================] - 0s 2ms/step - loss: 0.4013 - mse: 0.3441 - mae: 0.4013 - root_mean_squared_error: 0.5866\n"
          ]
        },
        {
          "output_type": "execute_result",
          "data": {
            "text/plain": [
              "[0.40129128098487854,\n",
              " 0.34408992528915405,\n",
              " 0.40129128098487854,\n",
              " 0.5865917801856995]"
            ]
          },
          "metadata": {},
          "execution_count": 18
        }
      ],
      "source": [
        "model.evaluate(X_test,Y_test)"
      ]
    },
    {
      "cell_type": "markdown",
      "metadata": {
        "id": "Gtd_UnfN4TPP"
      },
      "source": [
        "Make predictions:"
      ]
    },
    {
      "cell_type": "code",
      "execution_count": null,
      "metadata": {
        "colab": {
          "base_uri": "https://localhost:8080/"
        },
        "id": "OhghFnnf4VA1",
        "outputId": "227487ce-2f94-4846-dd7e-49f81ed2e77e"
      },
      "outputs": [
        {
          "output_type": "stream",
          "name": "stdout",
          "text": [
            "[-0.70358018 -0.75674942 -0.23773712  0.15929248  0.02979599 -0.0330465\n",
            "  0.99724629 -0.15637996]\n",
            "[2.4745193]\n"
          ]
        }
      ],
      "source": [
        "preds = model.predict(X_test)\n",
        "print(X_test[-1])\n",
        "print(preds[0])"
      ]
    },
    {
      "cell_type": "markdown",
      "metadata": {
        "id": "cZkVPySYAddP"
      },
      "source": [
        "Inspecting the result on a regression plot:"
      ]
    },
    {
      "cell_type": "code",
      "execution_count": null,
      "metadata": {
        "colab": {
          "base_uri": "https://localhost:8080/",
          "height": 596
        },
        "id": "Uzv3YtGlAcl6",
        "outputId": "0f17c62c-110f-4ef7-b3a0-9bf3bf0bb574"
      },
      "outputs": [
        {
          "output_type": "display_data",
          "data": {
            "text/plain": [
              "<Figure size 720x720 with 1 Axes>"
            ],
            "image/png": "[encoded data removed]"
          },
          "metadata": {
            "needs_background": "light"
          }
        }
      ],
      "source": [
        "plt.figure(figsize=(10,10))\n",
        "sns.regplot(x=Y_test.reshape(-1), y=preds.reshape(-1)).set(xlim=(0,5),ylim=(0,5)); "
      ]
    },
    {
      "cell_type": "code",
      "execution_count": null,
      "metadata": {
        "id": "BQzXKbrsBtY1"
      },
      "outputs": [],
      "source": [
        ""
      ]
    }
  ],
  "metadata": {
    "colab": {
      "collapsed_sections": [],
      "name": "AIT_Deep_learning_Assigment_2.ipynb",
      "provenance": [],
      "toc_visible": true
    },
    "kernelspec": {
      "display_name": "Python 3",
      "language": "python",
      "name": "python3"
    },
    "language_info": {
      "codemirror_mode": {
        "name": "ipython",
        "version": 3
      },
      "file_extension": ".py",
      "mimetype": "text/x-python",
      "name": "python",
      "nbconvert_exporter": "python",
      "pygments_lexer": "ipython3",
      "version": "3.6.6"
    }
  },
  "nbformat": 4,
  "nbformat_minor": 0
}