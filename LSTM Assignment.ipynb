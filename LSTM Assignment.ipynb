{
  "nbformat": 4,
  "nbformat_minor": 0,
  "metadata": {
    "kernelspec": {
      "display_name": "Python 3",
      "language": "python",
      "name": "python3"
    },
    "language_info": {
      "codemirror_mode": {
        "name": "ipython",
        "version": 3
      },
      "file_extension": ".py",
      "mimetype": "text/x-python",
      "name": "python",
      "nbconvert_exporter": "python",
      "pygments_lexer": "ipython3",
      "version": "3.6.6"
    },
    "colab": {
      "name": "AIT-Deep-learning-Assigment-3",
      "provenance": [],
      "collapsed_sections": [],
      "include_colab_link": true
    }
  },
  "cells": [
    {
      "cell_type": "markdown",
      "metadata": {
        "id": "view-in-github",
        "colab_type": "text"
      },
      "source": [
        "<a href=\"https://colab.research.google.com/github/shyam1494/AITDeepLearningAssignments/blob/main/LSTM%20Assignment.ipynb\" target=\"_parent\"><img src=\"https://colab.research.google.com/assets/colab-badge.svg\" alt=\"Open In Colab\"/></a>"
      ]
    },
    {
      "cell_type": "markdown",
      "metadata": {
        "id": "oXyFC44jV-PP"
      },
      "source": [
        "# Author classification\n",
        "The task is to train a 1D CNN or an LSTM that is able to  classify text from two authors. The final model should be able to tell about a text with a given length (e.g. 60 characters) who wrote it. \n",
        "\n",
        "Please write the codes according to the following parts:"
      ]
    },
    {
      "cell_type": "markdown",
      "metadata": {
        "id": "jCnLoeGrHXsp"
      },
      "source": [
        "## Python module imports\n",
        "Import all Python modules that you would need during the Assignment."
      ]
    },
    {
      "cell_type": "code",
      "metadata": {
        "id": "7itbFGt3HXVT"
      },
      "source": [
        "from tensorflow.keras.models import Sequential\n",
        "from tensorflow.keras.layers import Dense, Activation, Dropout\n",
        "from tensorflow.keras.layers import LSTM\n",
        "from tensorflow.keras.optimizers import RMSprop\n",
        "from tensorflow.keras.callbacks import EarlyStopping\n",
        "from urllib.request import urlretrieve\n",
        "import numpy as np\n",
        "import random\n",
        "import sys\n",
        "import re, cgi"
      ],
      "execution_count": 184,
      "outputs": []
    },
    {
      "cell_type": "markdown",
      "metadata": {
        "id": "Hr617tEpHd8R"
      },
      "source": [
        "## Data acquisition\n",
        "Seek a possible dataset, you can use any source, e.g.\n",
        "* http://www.gutenberg.org/\n",
        "* https://www.kaggle.com/datasets\n",
        "* https://paperswithcode.com/datasets\n",
        "* if you would like to learn Hungarian, than e.g. https://mek.oszk.hu/\n",
        "\n",
        "You can download the text by hand (e.g. by copy-pasting some parts into txt files) or with Python. "
      ]
    },
    {
      "cell_type": "code",
      "metadata": {
        "id": "NgkdQxHqHdZB",
        "colab": {
          "base_uri": "https://localhost:8080/"
        },
        "outputId": "7decffea-582c-42e4-b278-3ce92d51ac11"
      },
      "source": [
        "text1 = open('/content/author1.txt','r').read();\n",
        "text2 = open('/content/author2.txt','r').read()\n",
        "print(f\"length of author 1 {len(text1)} author 2 {len(text2)}\")"
      ],
      "execution_count": 13,
      "outputs": [
        {
          "output_type": "stream",
          "name": "stdout",
          "text": [
            "length of author 1 32442 author 2 34072\n"
          ]
        }
      ]
    },
    {
      "cell_type": "code",
      "source": [
        "text1_balanced = text1[0:32001]\n",
        "text2_balanced = text2[0:32001]"
      ],
      "metadata": {
        "id": "WKhuRGqozVoO"
      },
      "execution_count": 158,
      "outputs": []
    },
    {
      "cell_type": "markdown",
      "source": [
        "## Data analysis\n",
        "Count the number of characters from both authors and display them on a plot (e.g. Seaborn's countplot)."
      ],
      "metadata": {
        "id": "U9Pmq91t3SRD"
      }
    },
    {
      "cell_type": "code",
      "source": [
        "text2_balanced"
      ],
      "metadata": {
        "colab": {
          "base_uri": "https://localhost:8080/",
          "height": 145
        },
        "id": "h2Dnm5FVV8iJ",
        "outputId": "f4c14463-e46d-4ac1-bca8-9526f8b177ed"
      },
      "execution_count": 161,
      "outputs": [
        {
          "output_type": "execute_result",
          "data": {
            "text/plain": [
              "'This day Daniel Sutton was brought to the bar of the Court upon\\na _Habeas Corpus_, in order to be arraigned on an indictment for\\npreserving the lives of the King’s subjects, found by the grand jury\\nfor the county of Essex.\\n\\n_Counsel for the Cr._ Mr. President, there is an indictment for high\\ncrimes, and misdemeanors, found against Mr. Daniel Sutton, which hath\\nbeen removed into this Court by _certiorari_; the _certiorari_ and\\nreturn thereof hath been filed, and the Prisoner is now brought into\\nCourt in order to be arraigned.\\n\\n_President._ Read the indictment.\\n\\n_Cl. of the Cr._ Daniel Sutton, hold up your hand. You stand indicted\\nby the name of Daniel Sutton, late of the town of Ingatestone, in\\nthe county of Essex, for that you by inoculating, and causing to be\\ninoculated, and by means of certain secret medicines and modes of\\npractice, unknown to this College and to all other practitioners, not\\nhaving the fear of the College in your heart, do presume to preserve\\nthe lives of his Majesty’s liege subjects; and that more especially\\nduring the three years last past, you have inoculated, or caused to be\\ninoculated, twenty thousand persons, without the loss of one single\\npatient by inoculation, contrary to the statute in that case made and\\nprovided.\\n\\nThen the twelve jurors were sworn and counted.\\n\\n_Cl. of the Cr._ Cryer, make proclamation.\\n\\n_Cryer._ O yes! If any one can inform, &c.\\n\\n_Cl. of the Cr._ Daniel Sutton, hold up your hand. Gentlemen of the\\njury, look upon the prisoner and hearken to his cause.\\n\\n_Couns. for the Cr._ Mr. President, and gentlemen of the jury, this\\nindictment is for the high crime of preserving the lives of his\\nMajesty’s subjects by means of inoculation, and particularly by modes\\nof practice and the exhibition of certain medicines unknown to this\\nCollege, and to all others who practise the art of healing.\\n\\nGentlemen, with regard to the first part of this charge, namely, that\\nof preserving the lives of the King’s liege subjects, we shall prove,\\nbeyond all possibility of doubt, that in twenty thousand, whom the\\nPrisoner hath inoculated, not one single patient hath died, whose\\ndeath could be fairly attributed to inoculation. We shall then shew,\\nthat he constantly enjoins a certain unusual regimen to be observed by\\nall his patients, previous to, and during the time of, inoculation;\\nand lastly, we shall convince you, by unquestionable evidence, that he\\nadministers to his patients diverse medicines, the composition of which\\nis an intire secret to this College, and to the whole faculty.\\n\\nGentlemen, it were needless to expatiate on the heinousness of these\\ncrimes. Your own sagacity, and regard to justice, will be your best\\nguides. We shall support our allegations by incontestible proof, and I\\nmake no doubt that you will find the Prisoner guilty of the crimes and\\nmisdemeanors specified in the indictment. If the Court pleases, we will\\nnow proceed to examine witnesses. Call Mr. Robert Houlton.\\n\\nMr. Robert Houlton was sworn.\\n\\n_Couns. for the Cr._ Do you know the Prisoner at the bar?\\n\\n_Houlton._ I do.\\n\\n_Couns. for the Cr._ I think, Sir, you are a clergyman?\\n\\n_Houlton._ I am.\\n\\n_Couns. for the Cr._ Pray, Sir, give me leave to ask you, whether you\\nhave had any particular connection with the Prisoner?\\n\\n_Houlton._ Yes, Sir, I was particularly connected with him. I was his\\nofficiating clergyman.\\n\\n_Couns. for the Cr._ Give me leave to ask you, whether you can give the\\nCourt any information concerning the number of persons inoculated by\\nthe Prisoner, during the last three or four years?\\n\\n  _Houlton._ In the year 1764, he\\n  inoculated      1629\\n    In 1765       4347\\n    In 1766       7816\\n                  ----\\n    In all       13792\\n                 -----\\n\\nTo this number should be added 6000 that have been inoculated by Mr.\\nSutton’s assistants, as he taught them his method, and as they use none\\nbut his medicines. So that he may be said to have inoculated, within\\nthese three years, 20000 persons.\\n\\n_C. for the Cr._ How many of this number have died in consequence of\\ninoculation?\\n\\n_Houlton._ Not one.\\n\\n_C. for the Prisoner._ I think you said that you was officiating\\nclergyman to the Prisoner?\\n\\n_Houlton._ I did say so.\\n\\n_C. for the Prisoner._ And pray, Sir, what was your office?\\n\\n_Houlton._ To pray with the sick, and return thanks for their recovery.\\n\\n_C. for the Prisoner._ Very extraordinary, truly. Give me leave to ask\\nyou, whence you took this very exact account of the number of persons\\ninoculated by the Prisoner?\\n\\n_Houlton._ From Mr. Sutton’s books.\\n\\n_Couns. for the Prisoner._ I beg, gentlemen of the jury, you will\\nobserve that this account of the number of persons inoculated, and\\nconsequently of the number of lives preserved, one of the crimes of\\nwhich the Prisoner stands accused, was taken only from his own books.\\nThis is a material circumstance, and I make no doubt but you will give\\nit its due weight.\\n\\n_Couns. for the Cr._ Have you any other question to ask this witness?\\n\\n_Couns. for the Prisoner._ I have done.\\n\\n_Couns. for the Cr._ We are perfectly satisfied, Mr. Houlton, with your\\naccurate account of the number of people inoculated by the Prisoner.\\nNow, Sir, let me ask you a few questions relative to the Prisoner’s\\npeculiar method of communicating the infection. How is this performed?\\n\\n_Houlton._ By means of a puncture so slight, that it is scarce felt by\\nthe patient, and which in a minute afterwards is scarce visible.\\n\\n_Couns. for the Cr._ What do you know of his medicines?\\n\\n_Houlton._ I know that they are most powerful. If he perceives a\\nsymptom in patients of a great fever, or a probability of their having\\nmore pustules than they would chuse, he quickly prevents both by virtue\\nof his medicines.\\n\\n_Couns. for the Cr._ Do you recollect any particular instance of this\\nextraordinary virtue of his medicines?\\n\\n_Houlton._ I do. A child belonging to Mr. Barnard, of Waltham in Essex,\\nwas seized with the natural small pox. As soon as it was discovered,\\nby the pustules making a plentiful appearance, the child was conveyed\\nto one of Mr. Sutton’s houses. The next morning, the face and body\\nbeing extremely full, Mr. Sutton marked with a pen a great number\\nof pustules, and administered the medicine I allude to: some hours\\nafterwards, hundreds of the pustules disappeared; and among them\\nseveral of those marked leaving the little dot on the plain surface of\\nthe skin. The child did extremely well.\\n\\n_Couns. for the Cr._ Sir, you may retire.\\n\\n Dr. GEORGE BAKER sworn.\\n\\n_Couns. for the Cr._ Pray, Dr. Baker, inform the Court what you know\\nconcerning the Prisoner’s practice of inoculation.\\n\\n_Dr. Baker._ I can give the Court but little information from my\\nown knowledge; but what I have to say, I received from a gentleman,\\nwhose accuracy in observing, as well as veracity in relating what he\\nobserved, may be relied on. All persons are obliged to go through a\\nstrict preparatory regimen for a fortnight before the operation. During\\nthis course, all fermented liquors and animal food, except milk, are\\nforbid. Fruit is generally allowed, except on the days of purging. A\\npowder is given three several times, and a dose of purging salt on the\\nfollowing morning. The composition of this powder is a secret. But that\\nit contains mercury is evident, from its having salivated some patients.\\n\\n_Couns. for the Cr._ I beg, gentlemen of the jury, you will please\\nto remember that the Doctor says, the composition of the powder is a\\nsecret. Now, Sir, please to proceed to his manner of communicating the\\ndisease.\\n\\n_Dr. Baker._ The operator opens a pustule on the arm of some patient in\\nwhom the matter is yet in a crude state; and then with his moist lancet\\njust raises the cuticle on the arm of the person to be inoculated,\\napplying neither plaister nor bandage. This was his method some time\\nago; but he now generally dips his lancet only in the moisture issuing\\nfrom the place of incision, before the eruption, four days after the\\noperation.\\n\\n_Couns. for the Cr._ And pray, Sir, what medicines does he give after\\nthe operation?\\n\\n_Dr. Baker._ On the night following, the patient takes a pill, which\\nis repeated every other night till the fever comes on.\\n\\n_Couns. for the Cr._ Do you know the composition of this pill?\\n\\n_Dr. Baker._ No: it is a secret.\\n\\n_Couns. for the Cr._ Are the patients confined to their apartments at\\nthis period?\\n\\n_Dr. Baker._ No: moderate exercise in the open air is strongly\\nrecommended.\\n\\n_Couns. for the Cr._ Now, Sir, please to inform the Court what you\\nhave learnt concerning the progress of the disease and the manner of\\ntreating it.\\n\\n_Dr. Baker._ Three days after the operation, if it succeed, there\\nappears on the incision a spot, like a flea bite, not as yet above the\\nskin, which gradually becomes first a red pimple, and then a bladder\\nfull of clear lymph, advancing to maturation with the pustules. In\\nproportion as the discolouration round the place of incision is\\ngreater, the less quantity of eruption is expected; therefore, when\\nthis circle is small, stronger and more frequent cathartics are\\nexhibited. If, when the fever comes on, there appears no tendency\\nto perspiration, some acid drops, or more powerful sudorifics, are\\nadministered. In general, during the burning heat of the fever, he\\ngives cold water; but after the perspiration begins, warm baum-tea, or\\nwater-gruel. As soon as the sweat abates, the eruption having appeared,\\nhe obliges every body to get up, to walk about the house, or into the\\ngarden. From this time, to the turn of the disease, he gives milk-gruel\\n_ad libitum_. On the following day he gives a dose of Glauber’s salts,\\nand, if the eruption be considerable, he repeats it on the third day.\\n\\n_Couns. for the Cr._ Pray, Sir, can you give the Court any information\\nrelative to the number of persons that have been inoculated by the\\nPrisoner and his assistants?\\n\\n_Dr. Baker._ According to the best information that I can procure,\\nabout seventeen thousand have been thus inoculated, of which number no\\nmore than five or six have died.\\n\\n Mr. B. CHANDLER sworn.\\n\\n_Couns. for the Cr._ You, Sir, I think are a surgeon at Canterbury?\\n\\n_Mr. Chandler._ I am.\\n\\n_Couns. for the Cr._ Pray, Mr. Chandler, can you give us any\\ninformation concerning the Prisoner’s success in the practice of\\ninoculation?\\n\\n_Mr. Chandler._ I know nothing of Mr. Sutton’s own particular practice,\\nexcept from report. What I have to say relates only to that of one of\\nhis assistants, or partners.\\n\\n_President._ This evidence cannot affect the Prisoner at the bar, as he\\ntells you he knows nothing of Mr. Sutton’s own particular practice.\\n\\n_Couns. for the Cr._ I beg your pardon, Mr. President, the Prisoner\\nat the bar stands indicted for preserving the lives of the King’s\\nsubjects, not only by inoculating, but also causing to be inoculated.\\n\\n_President._ Proceed to his examination.\\n\\n_Couns. for the Cr._ Pray, Mr. Chandler, who is this assistant or\\npartner, with whose practice you are acquainted?\\n\\n_Mr. Chandler._ He is a surgeon of eminence at Maidstone; his name is\\nPeale.\\n\\n_Couns. for the Cr._ Where was it that you saw his practice?\\n\\n_Mr. Chandler._ In the city of Canterbury.\\n\\n_Couns. for the Cr._ What number of persons might he inoculate in that\\ncity?\\n\\n_Mr. Chandler._ I cannot exactly tell; but it is considerable.\\n\\n_Couns. for the Cr._ Did any of his patients die under inoculation?\\n\\n_Mr. Chandler._ Not that I know of.\\n\\n_Couns. for the Cr._ Did you hear Dr. Baker’s evidence?\\n\\n_Mr. Chandler._ I did.\\n\\n_Couns. for the Cr._ Does Mr. Peale’s practice differ in any respect\\nfrom that of the Prisoner, as related by the Doctor?\\n\\n_Mr. Chandler._ It differs in some few particulars.\\n\\n_Couns. for the Cr._ What are these particulars?\\n\\n_Mr. Chandler._ I think, Dr. Baker informed the Court that the persons\\nto be inoculated are a fortnight under preparation. That time is now\\nreduced to eight days. The pill is not given every other night, as\\nmentioned by the Doctor; many of Mr. Peale’s patients not having taken\\nit till the fifth day after inoculation. It is generally repeated on\\nthe seventh day, and sometimes continued to the eighth or ninth. When\\nthe eruptive fever comes on, a sort of julap is given to be drank\\n_ad libitum_; composed of a small quantity of a medicine nearly the\\ncolour of Madeira wine, poured into a quart or pint bottle of spring\\nwater. It’s taste is very agreeable, cooling, and sub-acid. And here my\\nobservations differ most from the accounts related to Dr. Baker; for\\nthough this medicine, if taken upon going to bed, did sometimes seem\\nto occasion a slight perspiration, yet an increased perspiration was\\nnever, that I saw, or could learn, insisted on in the day, much less\\na profuse sweat at any time: for none of the patients are allowed to\\nlie in bed, or sit over the fire, or keep within doors, if the weather\\nis tolerable, even during the feverish symptoms, and the only drink\\nallowed is toast and water.\\n\\n_Couns. for the Prisoner._ I thought, Sir, you said that the patients\\nwere allowed a certain sub-acid julap _ad libitum_? and now you tell\\nus, that the only drink allowed is toast-water. I beg, gentlemen of the\\njury, you will observe that he contradicts himself.\\n\\n_Mr. Chandler._ When I said that toast-water was the only drink\\nallowed, I certainly mean to except the julap, which I considered as a\\nmedicine, and the toast-water as common drink.\\n\\n_Couns. for the Prisoner._ I submit it to the Court, whether he did not\\ncontradict himself.\\n\\n_President._ He has explained his meaning sufficiently.\\n\\n_C. for the Prisoner._ I submit. Mr. Chandler, we desire you will not\\nleave the Court; we shall ask you a few more questions by and by.\\n\\n_C. for the Pris._ Pray, Mr. Chandler, let me ask you, whether you know\\nthe composition of the medicines given by Mr. Peale?\\n\\n_Mr. Chandler._ I do not.\\n\\n_Couns. for the Pris._ You do not. Then they are secret medicines?\\n\\n_Mr. Chandler._ They are.\\n\\n_Couns. for the Pris._ Sir, we have done with you. Mr. President, and\\ngentlemen of the jury, this is all the evidence we shall produce in\\nsupport of our indictment. Though it were easy to corroborate every\\nthing they have said by a hundred witnesses; yet as these are more than\\nthe law requires, as their evidence is so clear and circumstantial,\\nand as they are gentlemen of undoubted character, we think it totally\\nunnecessary to trouble you with the repetition of facts, of the truth\\nof which you cannot possibly doubt.\\n\\nThat the Prisoner at the bar is guilty of preserving the lives of his\\nMajesty’s liege subjects, we have proved, first, on the evidence of\\nthe Rev. Mr. Houlton, who asserts, that in the space of three years,\\nhe, the Prisoner, hath inoculated, or caused to be inoculated, no less\\nthan twenty thousand persons. Now, in the old way of inoculation, if we\\nallow that there died one in two hundred, which I believe is about the\\nmark, it will appear, that he hath actually preserved the lives of one\\nhundred people; for in the twenty thousand inoculated by the Prisoner\\nand his accomplices, not one hath died, whose death could be justly\\nattributed to inoculation. This witness hath likewise informed you,\\nthat the Prisoner is actually possessed of a certain medicine, by the\\nadministration of which, and by the help of a magick circle drawn with\\na pen round the pustules, together with a prayer composed and repeated\\nby this witness on the occasion, he can make them retire at the word of\\ncommand, with the same dexterity, and in the same manner, as any other\\n_Hocus Pocus_ commands his little balls to pass through the table. That\\nthis is performed by means unknown to the faculty, is very evident, as\\nnot one of them all pretends to any thing like it.\\n\\nDr. Baker, a physician of considerable reputation, after giving you\\na clear account of the Prisoner’s extraordinary method of preparing,\\nand manner of treating his patients thro’ the whole progress of the\\ndisease, sufficiently confirms the evidence of Mr. Houlton, in regard\\nto the number of persons inoculated; with whom he also agrees in\\nconfirming that material part of our allegation, which accuses the\\nPrisoner of performing these miracles by means of secret medicines, and\\nunusual modes of practice.\\n\\nOur last witness, Mr. Chandler, a very skilful surgeon, hath, in\\nthe course of his examination, corroborated Dr. Baker’s account of\\nthe Prisoner’s unprecedented mode of practice, at least in the most\\nessential points; so that you cannot possibly entertain the least doubt\\nas to facts. Gentlemen, it were very easy for me to expatiate on the\\nfatal consequences of permitting such proceedings to go unpunished; but\\nyour own understanding and impartiality will, I make no doubt, prompt\\nyou to determine with propriety: I therefore forbear to say any thing\\nmore that might influence your judgement. The counsel for the Prisoner\\nmay now call their evidence whenever they think proper.\\n\\n_Couns. for the Prisoner._ Mr. President, and gentlemen of the jury,\\nthe Prisoner at the bar stands indicted for preserving the lives of his\\nMajesty’s liege subjects, by secret medicines and modes of practice,\\nand by inoculating, or causing to be inoculated, divers persons, &c.\\nWith regard to his preserving the lives of the King’s subjects, it has\\nbeen so insufficiently proved, that we shall not take up your time\\nin disproving it; but as to his secret medicines, we shall shew you\\nthat the ingredients of which they are made are certainly known, and\\nconsequently that they are not secret medicines. We shall prove to\\nyou, by undeniable evidence, that the same medicines have been long\\nrecommended and administered for the same purposes, and with equal\\nsuccess. And we shall, last of all, produce a witness of unquestionable\\nauthority, who will convince you that the successful practice of\\ninoculation does not depend on any peculiar medicine whatsoever, and\\nconsequently that the Prisoner is perfectly guiltless of the crimes of\\nwhich he stands accused. Call Dr. Thomas Ruston.\\n\\n Dr. THOMAS RUSTON sworn.\\n\\nPray, Dr. Ruston, have you any knowledge of the composition of\\ncertain medicines used by the Prisoner at the bar, in his practice of\\ninoculation?\\n\\n_Dr. Ruston._ I believe I have.\\n\\n_Couns. for the Pris._ What is the form of these medicines?\\n\\n_Dr. Ruston._ Powders, pills, and drops.\\n\\n_Couns. for the Prisoner._ What are the ingredients which compose the\\npowder?\\n\\n_Dr. Ruston._ I verily believe the powder to consist entirely of\\ncalomel and æthiops mineral.\\n\\n_Couns. for the Pris._ What are your reasons for thinking so?\\n\\n_Dr. Ruston._ My reasons are founded on chemical experiment and\\nanalogy.\\n\\n_Couns. for the Prisoner._ What experiment and what analogy?\\n\\n_Dr. Ruston._ 1st. To a small quantity of Mr. Sutton’s powder, which\\nwas of a greyish colour, I added a few drops of volatile alkali, which\\nimmediately changed it to a deep black. 2dly. To a small quantity of\\nthe same, a few drops of a solution of salt of tartar were added,\\nwhich produced the same colour. 3dly. A few drops of lime-water were\\nadded, which also changed the powder black, but not quite so black as\\nin experiment 1 and 2. The colour and weight of Mr. Sutton’s powder\\nwere exactly imitated by the addition of six grains of æthiops to ten\\ngrains of calomel, and by repeating the above experiments with this\\ncomposition, it was found to exhibit exactly the same phenomena.\\n\\n_Couns. for the Prisoner._ Now, Sir, as to the pills?\\n\\n_Dr. Ruston._ The pills, from their smell, taste, colour, and effects,\\nare evidently no other than the well-known _pilulæ cochiæ_, with a\\nsmall addition of calomel.\\n\\n_Couns. for the Prisoner._ Did you make no experiment with the pills?\\n\\n_Dr. Ruston._ Yes. I poured on one of them a few drops of volatile\\nalkali, and it immediately struck a deep black. The same appearance\\nwas produced by salt of tartar, and by lime-water. I then added a few\\ngrains of calomel to the _pilulæ cochiæ_, and repeated the experiments\\nwith the same effect.\\n\\n_Couns. for the Prisoner._ And what discoveries have you made\\nconcerning the drops?\\n\\n_Dr. Ruston._ The acid drops with which he prepares his punch, is so\\nobviously of the same nature with the dulcified volatile vitriolic\\nacid that arises during the distillation of æther, and which is the\\nsame with what exists in large quantities in the _liquor anodinus_\\nof Hoffman, that it was unnecessary to submit it to any chemical\\nexperiment. There was nothing foreign in its composition.\\n\\n_Couns. for the Cr._ Not to interrupt the course of your examination,\\nI beg leave, before you proceed, to ask the Doctor one question. If I\\nremember right, you said, the powder contained ten grains of calomel.\\nPray, Doctor, is not this an unusual large dose?\\n\\n_Dr. Ruston._ As an alterative it certainly is so; and therefore Mr.\\nSutton’s powders have often been known to salivate the patient. But its\\nactivity is somewhat weakened by the sulphur contained in the æthiops.\\n\\n_Couns. for the Cr._ But has it not been generally supposed that there\\nwas some other powerful ingredient in Mr. Sutton’s medicines?\\n\\n_Dr. Ruston._ Yes, antimony. But from my experiments, I am convinced of\\nthe contrary.\\n\\n_Couns. for the Pris._ Now, Doctor, give me leave to ask you, whether\\nthe exhibition of mercury, as preparative to inoculation, be the\\ninvention of the Prisoner at the bar?\\n\\n_Dr. Ruston._ Certainly not.\\n\\n_Couns. for the Pris._ Who were the inventors of this practice?\\n\\n_Dr. Ruston._ I cannot answer positively to that question. The great\\nBoerhaave, in his Aphorisms, recommended the experiment of uniting\\nmercury with antimony as an antidote to the variolous virus; but I\\nbelieve some American physicians were the first who used mercury in\\npreparing for inoculation.\\n\\n_Couns. for the Pris._ And with what success?\\n\\n_Dr. Ruston._ With very great. Out of the first three thousand\\ninoculated, only five died; and these were all children, who could not\\nbe prevailed on to take the medicine.\\n\\n_Couns. for the Pris._ I beg, gentlemen of the jury, you will remember\\nthis circumstance--All that took the mercurial medicines recovered.\\nPray, Dr. Ruston, was this new method of preparation long confined to\\nany particular physician, or part of America?\\n\\n_Dr. Ruston._ No: the fame of its extraordinary success soon produced\\na number of inoculators on the new plan; so that in a short time it\\nspread from one end of the continent to the other.\\n\\n_Couns. for the Pris._ Did these several inoculators all give precisely\\nthe same medicines?\\n\\n_Dr. Ruston._ Not precisely.\\n\\n_Couns. for the Pris._ In what respect do they differ?\\n\\n_Dr. Ruston._ Principally in the proportions of calomel and antimony.\\n\\n_Couns. for the Pris._ But they all agreed in giving calomel?\\n\\n_Dr. Ruston._ All.\\n\\n_Couns. for the Pris._ Did they agree in any other respect?\\n\\n_Dr. Ruston._ Yes: they all gave cathartics, and during the eruptive\\nfever treated their patients in the anti-phlogistic method.\\n\\n_Couns. for the Pris._ Were their patients under any restrictions in\\nregard to diet?\\n\\n_Dr. Ruston._ In general they were ordered to abstain from salt food,\\nspirituous liquors, butter, oil, and such like.\\n\\n_Couns. for the Pris._ You have given a very satisfactory account of\\nthese matters. Now give me leave to ask, whether you yourself practise\\ninoculation?\\n\\n_Dr. Ruston._ I do.\\n\\n_Couns. for the Pris._ Do you prepare your patients?\\n\\n_Dr. Ruston._ Certainly.\\n\\n_Couns. for the Pris._ Do you confine your patients to any particular\\ndiet?\\n\\n_Dr. Ruston._ I order them to abstain from animal food, spirituous\\nliquors, and spices.\\n\\n_Couns. for the Pris._ And what medicines do you prescribe?\\n\\n_Dr. Ruston._ They consist principally of mercurials and antimonials.\\n\\n_Couns. for the Pris._ Do you believe there is any specific virtue in\\nthese medicines? Do you give them as antidotes?\\n\\n_Dr. Ruston._ By no means. I give them merely as evacuants, and\\naccordingly proportion them to the constitution and age of the patient.\\n\\n_Couns. for the Pris._ Can you say any thing, from experience, of the\\nsuccess of your method, compared with that of the Prisoner at the bar?\\n\\n_Dr. Ruston._ I can say, from experience, that my method, in point of\\nsuccess, is fully equal to his.\\n\\n_Couns. for the Pris._ What is your opinion of his cold regimen?\\n\\n_Dr. Ruston._ I approve of it in general, and practise it; but not in\\nthe extreme.\\n\\n_Couns. for the Pris._ What is your opinion as to the manner of\\ncommunicating the infection?\\n\\n_Dr. Ruston._ I think it a matter of little importance. That of just\\nraising the skin with the point of a lancet, which has been dipped into\\na pustule, and then rubbing the matter which adheres to it on the wound\\nwith the finger, seems to be as good a one as any.\\n\\n_Couns. for the Pris._ One question more. Do you think, upon the whole,\\nthat the Prisoner at the bar possesses any secret, to which his success\\nis to be attributed?\\n\\n_Dr. Ruston._ I think it must have appeared, from the evidence I have\\ngiven, that he possesses no secret at all.\\n\\n_Couns. for the Pris._ We shall now recall one of their own witnesses;\\na gentleman of undoubted veracity; whose evidence, if it have proved\\nany thing against the Prisoner, will, upon farther examination, be\\nfound to prove much more in his favour.\\n\\n Dr. BAKER.\\n\\nPray, Dr. Baker, is the practice of preparing persons for the small pox\\nwith calomel peculiar to the Prisoner at the bar?\\n\\n_Dr. Baker._ By no means: it is a very general practice. There are\\nseveral physicians of credit who insist strenuously on its good effects.\\n\\n_Couns. for the Pris._ Is it common to give purgative medicines on this\\noccasion?\\n\\n_Dr. Baker._ That in general two or three doses of some purging\\nmedicine ought to be given, almost all inoculators have agreed.\\n\\n_Couns. for the Pris._ Now, Dr. Baker, give me leave to ask you, as a\\nphysician, whether it be your opinion that the marvellous success, of\\nwhich the Prisoner stands accused, be owing to the peculiar virtue of\\nany medicine or medicines, known only to himself and his accomplices?\\n\\n_Dr. Baker._ I am of opinion it is not.\\n\\n_Couns. for the Pris._ To what cause then do you ascribe that success?\\n\\n_Dr. Baker._ Principally to the free use of cold air.\\n\\n_Couns for the Pris._ Is he the only inoculator who allows his patients\\nthe free use of cold air?\\n\\n_Dr. Baker._ Not now: the practice is at present very general in many\\nparts of this kingdom.\\n\\n_Couns. for the Pris._ Was he the inventor of this cold regimen?\\n\\n_Dr. Baker._ I cannot accuse him of being the inventor, because it is\\nstrenuously recommended, in the natural small pox, by writers of the\\nfirst rank, particularly Sydenham, whose works are in the hands of\\nevery physician.\\n\\n_Couns. for the Pris._ We shall now call a physician sufficiently known\\nin the medical world, particularly by his _Analysis of Inoculation_.\\n\\n Dr. KIRKPATRICK sworn.\\n\\n_Couns. for the Pris._ I think, Sir, you have had much experience in\\nthe practice of inoculation?\\n\\n_Dr. Kirkpatrick._ I have.\\n\\n_Couns. for the Pris._ Have you been long accustomed to give calomel in\\npreparing your patients?\\n\\n_Dr. Kirkpatrick._ It hath long been my practice, as appears from my\\nbook.\\n\\n_Couns. for the Pris._ Has it been your practice to confine your\\npatients to any particular regimen?\\n\\n_Dr. Kirkpatrick._ It appears from my _Analysis_, that I regulate my\\npractice, in this respect, according to age and constitution; but in\\ngeneral I advise that they should abstain from flesh meat, spirituous\\nliquors, and, in short, every thing inflammatory, or difficult of\\ndigestion.\\n\\n_Couns. for the Pris._ I beg, gentlemen of the jury, you will take\\nnotice that the Doctor prescribes a vegetable diet; so that this is no\\nnew thing. Pray, Doctor, when was your _Analysis_ printed?\\n\\n_Dr. Kirkpatrick._ The first edition, in the last King’s reign, and the\\nsecond in the year 1761.\\n\\n Dr. BENJAMIN GALE sworn.\\n\\n_Couns. for the Pris._ You are a physician, I think?\\n\\n_Dr. Gale._ I am.\\n\\n_Couns. for the Pris._ Where do you live?\\n\\n_Dr. Gale._ At Connecticut in New England.\\n\\n_Couns. for the Pris._ Have you practised inoculation?\\n\\n_Dr. Gale._ I have inoculated many hundreds.\\n\\n_Couns. for the Pris._ Do you prepare your patients with calomel?\\n\\n_Dr. Gale._ I do.\\n\\n_Couns. for the Pris._ With what success?\\n\\n_Dr. Gale._ With very great success. In eight hundred patients, I have\\nlost but one.\\n\\n Mr. GATTI sworn.\\n\\n_Couns. for the Pris._ If I am properly instructed, you, Sir, have\\npractised inoculation in France?\\n\\n_Mr. Gatti._ Some time ago I was much employed in that business at\\nParis.\\n\\n_Couns. for the Pris._ In what manner did you prepare your patients?\\n\\n_Mr. Gatti._ I was always an enemy to any general plan: I paid the less\\nregard to preparation, because I knew, that in all the Levant, where\\nthe natural small-pox is as fatal as elsewhere; and where you may find\\nold women who have inoculated ten thousand people without an accident:\\nthe only enquiry is, whether the patient is prepared by nature. All\\nthat is considered, is, whether the breath be sweet, the skin soft, and\\nwhether a little wound in it heals easily. Whenever these conditions\\nare found, they inoculate without the least apprehension of danger.\\n\\n_C. for the Pris._ We shall now call a witness, who has already been\\nexamined by the counsel on the other side.\\n\\n Mr. CHANDLER.\\n\\n_Couns. for the Pris._ You, Sir, seem to have observed the Suttonian\\npractice with a good deal of attention: please to inform the Court,\\nwhether you attribute the success of this new method to the virtue of\\nhis medicines.\\n\\n_Mr. Chandler._ I attribute his extraordinary success neither to his\\nmedicines, nor his cool regimen, but principally to his method of\\ncommunicating the infection by means of the crude lymph before it has\\nbeen ultimately variolated by the succeeding fever; and I found my\\nopinion on that being the only circumstance in which he differs from\\nother inoculators.\\n\\n_Couns. for the Pris._ Which, gentlemen of the jury, you will please\\nto observe, is no secret: it is, indeed, a circumstance which could\\nnot possibly be concealed; for the method of performing the operation\\nmust not only be obvious to every patient, but to every by-stander.\\n\\n Dr. GLASS sworn.\\n\\n_Couns. for the Pris._ If I am not misinformed, you practice physic in\\nthe city of Exeter?\\n\\n_Dr. Glass._ I do.\\n\\n_Couns. for the Pris._ I presume, Doctor, you have heard of these\\nmighty miracles said to be performed by the Prisoner at the bar?\\n\\n_Dr. Glass._ I have; and have moreover been at some pains to discover\\nthe cause of these miracles.\\n\\n_Couns. for the Pris._ Do you know of any other miraculous inoculator?\\n\\n_Dr. Glass._ There is, in Somersetshire, an operator who hath\\ninoculated, at least, seventeen hundred patients, with the loss of two\\nonly.\\n\\n_Couns. for the Pris._ Are you acquainted with his method?\\n\\n_Dr. Glass._ I am.\\n\\n_Couns. for the Pris._ Is it different from that of the Prisoner?\\n\\n_Dr. Glass._ It is apparently, though perhaps not essentially,\\ndifferent.\\n\\n_Couns. for the Pris._ Pray, Doctor, favour the Court with an account\\nof this practice.\\n\\n_Dr. Glass._ This Somersetshire operator inoculates all that apply to\\nhim for that purpose, without examining in what state of health they\\nare, or have been, or asking them a single question. He always begins\\nhis process with communicating the infection. After this he bleeds\\nsome, purges all twice, confines them to a low diet, forbids exercise,\\nand whatever quickens the motion of the blood. Every one, as soon as\\nthe eruptive fever begins, is put to bed in a room that is shut up\\nclose, to keep out the cool air, is well covered with bed-cloaths, and\\nhas plenty of baum tea given him to make him sweat. But if this doth\\nnot answer, a sweating powder, which, being tasteless, is supposed\\nto be some antimonial preparation, is administered. By these means,\\na plentiful sweat is procured, and continued till the eruption is\\ncompleated. The patient is then permitted to get up, walk about the\\nhouse, and to go out, if he pleaseth, into the open air, when the\\nweather is not unfavourable.\\n\\n_Couns. for the Pris._ I think, Sir, you said that you had been at some\\npains to discover the cause of the miraculous success ascribed to this\\nnew me'"
            ],
            "application/vnd.google.colaboratory.intrinsic+json": {
              "type": "string"
            }
          },
          "metadata": {},
          "execution_count": 161
        }
      ]
    },
    {
      "cell_type": "code",
      "source": [
        "import matplotlib.pyplot as plt\n",
        "plt.bar(['author1','author2'],[len(text1_balanced),len(text2_balanced)])\n",
        "plt.xlabel(\"authors\");\n",
        "plt.ylabel(\"no of characters count \")\n",
        "plt.title(\"author list\")"
      ],
      "metadata": {
        "colab": {
          "base_uri": "https://localhost:8080/",
          "height": 313
        },
        "id": "1Jw9vybkzpf9",
        "outputId": "4c21c8d0-0c6e-4306-91a4-33ce98df87e1"
      },
      "execution_count": 149,
      "outputs": [
        {
          "output_type": "execute_result",
          "data": {
            "text/plain": [
              "Text(0.5, 1.0, 'author list')"
            ]
          },
          "metadata": {},
          "execution_count": 149
        },
        {
          "output_type": "display_data",
          "data": {
            "text/plain": [
              "<Figure size 432x288 with 1 Axes>"
            ],
            "image/png": "[encoded data removed]"
          },
          "metadata": {
            "needs_background": "light"
          }
        }
      ]
    },
    {
      "cell_type": "markdown",
      "metadata": {
        "id": "cHyE_ndGIblJ"
      },
      "source": [
        "## Data loading, labeling and preprocessing\n",
        "Load the data and convert the characters into one-hot encodings. Then load the data into a 3D NumPy array, with a shape of\n",
        "\n",
        "* (batch, sequence_length, alphabet_length)\n",
        "\n",
        "where sequence_length=60, and alphabet_length equals to the number of unique characters in both datasets. The sequences should be cut out from the complete dataset by sliding window. You should add 0 and 1 labels to the sequences, according to the author. \n",
        "\n",
        "Later you may change sequence_length to achieve better results!"
      ]
    },
    {
      "cell_type": "code",
      "source": [
        "author1 = sorted(list(set(text1_balanced)))\n",
        "author2 = sorted(list(set(text2_balanced)))\n",
        "combined_set = sorted(list(set(author1 + author2)))"
      ],
      "metadata": {
        "id": "rLFeEc2K6lOS"
      },
      "execution_count": 150,
      "outputs": []
    },
    {
      "cell_type": "code",
      "source": [
        "len(combined_set)"
      ],
      "metadata": {
        "colab": {
          "base_uri": "https://localhost:8080/"
        },
        "id": "qFFdimPO6sgt",
        "outputId": "d03f09cf-b582-4270-dbe1-b00df5ec56ef"
      },
      "execution_count": 151,
      "outputs": [
        {
          "output_type": "execute_result",
          "data": {
            "text/plain": [
              "80"
            ]
          },
          "metadata": {},
          "execution_count": 151
        }
      ]
    },
    {
      "cell_type": "code",
      "metadata": {
        "id": "arooXt0WIb6x",
        "colab": {
          "base_uri": "https://localhost:8080/"
        },
        "outputId": "79722e60-4115-4baa-9371-5a27aab0a3ea"
      },
      "source": [
        "# Next, we create character->index and index->character dictionaries for the one-hot encodings.\n",
        "char_indices = dict((c, i) for i, c in enumerate(combined_set))\n",
        "indices_char = dict((i, c) for i, c in enumerate(combined_set))\n",
        "print (\"Indices to char dictionary:\", char_indices)\n"
      ],
      "execution_count": 163,
      "outputs": [
        {
          "output_type": "stream",
          "name": "stdout",
          "text": [
            "Indices to char dictionary: {'\\n': 0, ' ': 1, '!': 2, '&': 3, \"'\": 4, ',': 5, '-': 6, '.': 7, '0': 8, '1': 9, '2': 10, '3': 11, '4': 12, '5': 13, '6': 14, '7': 15, '8': 16, '9': 17, ':': 18, ';': 19, '=': 20, '?': 21, 'A': 22, 'B': 23, 'C': 24, 'D': 25, 'E': 26, 'F': 27, 'G': 28, 'H': 29, 'I': 30, 'J': 31, 'K': 32, 'L': 33, 'M': 34, 'N': 35, 'O': 36, 'P': 37, 'R': 38, 'S': 39, 'T': 40, 'U': 41, 'V': 42, 'W': 43, 'Y': 44, '[': 45, ']': 46, '_': 47, 'a': 48, 'b': 49, 'c': 50, 'd': 51, 'e': 52, 'f': 53, 'g': 54, 'h': 55, 'i': 56, 'j': 57, 'k': 58, 'l': 59, 'm': 60, 'n': 61, 'o': 62, 'p': 63, 'q': 64, 'r': 65, 's': 66, 't': 67, 'u': 68, 'v': 69, 'w': 70, 'x': 71, 'y': 72, 'z': 73, 'Ä': 74, 'ä': 75, 'æ': 76, 'ö': 77, '—': 78, '’': 79}\n"
          ]
        }
      ]
    },
    {
      "cell_type": "code",
      "source": [
        "maxlen  = 30\n",
        "step    = 5\n",
        "sentences  = []\n",
        "author_label = []"
      ],
      "metadata": {
        "id": "tQz8ctp07zEY"
      },
      "execution_count": 226,
      "outputs": []
    },
    {
      "cell_type": "code",
      "source": [
        "for i in range(0,len(text1_balanced)-maxlen,3):\n",
        "  sentences.append(text1_balanced[i:i+maxlen])\n",
        "  author_label.append(0)"
      ],
      "metadata": {
        "id": "PATHHnQF-xeP"
      },
      "execution_count": 227,
      "outputs": []
    },
    {
      "cell_type": "code",
      "source": [
        "\n",
        "for i in range(0,len(text2_balanced)-maxlen,3):\n",
        "  sentences.append(text2_balanced[i:i+maxlen])\n",
        "  author_label.append(1)"
      ],
      "metadata": {
        "id": "p_bscOfuAMtN"
      },
      "execution_count": 228,
      "outputs": []
    },
    {
      "cell_type": "code",
      "source": [
        "len(sentences)"
      ],
      "metadata": {
        "colab": {
          "base_uri": "https://localhost:8080/"
        },
        "id": "Nx3k2nQMBI0t",
        "outputId": "5dd094e6-22ef-4204-ab11-42caf26b4e2d"
      },
      "execution_count": 229,
      "outputs": [
        {
          "output_type": "execute_result",
          "data": {
            "text/plain": [
              "21314"
            ]
          },
          "metadata": {},
          "execution_count": 229
        }
      ]
    },
    {
      "cell_type": "code",
      "source": [
        ""
      ],
      "metadata": {
        "id": "J7Vb_zdGOliX"
      },
      "execution_count": null,
      "outputs": []
    },
    {
      "cell_type": "code",
      "source": [
        "X = np.zeros((len(sentences),maxlen,len(combined_set)))\n",
        "Y = np.zeros(len(sentences))"
      ],
      "metadata": {
        "id": "7aGgLTVhJgfN"
      },
      "execution_count": 230,
      "outputs": []
    },
    {
      "cell_type": "code",
      "source": [
        "Y[21291]"
      ],
      "metadata": {
        "colab": {
          "base_uri": "https://localhost:8080/"
        },
        "id": "4xN_6BXAQisO",
        "outputId": "c9cf564a-4372-42d5-b3ba-91d4b93c69dd"
      },
      "execution_count": 231,
      "outputs": [
        {
          "output_type": "execute_result",
          "data": {
            "text/plain": [
              "0.0"
            ]
          },
          "metadata": {},
          "execution_count": 231
        }
      ]
    },
    {
      "cell_type": "code",
      "source": [
        "Y.shape"
      ],
      "metadata": {
        "colab": {
          "base_uri": "https://localhost:8080/"
        },
        "id": "7OwRBr_kQF_4",
        "outputId": "f9d28d5c-3cdf-4991-8089-f1c33dea60ae"
      },
      "execution_count": 232,
      "outputs": [
        {
          "output_type": "execute_result",
          "data": {
            "text/plain": [
              "(21314,)"
            ]
          },
          "metadata": {},
          "execution_count": 232
        }
      ]
    },
    {
      "cell_type": "code",
      "source": [
        "for i, sentence in enumerate(sentences):\n",
        "  for t, char in enumerate(sentence):\n",
        "    X[i,t,char_indices[char]] = 1\n",
        "  Y[i] = author_label[i]\n",
        "  \n"
      ],
      "metadata": {
        "id": "OKP8SyfQIrw9"
      },
      "execution_count": 233,
      "outputs": []
    },
    {
      "cell_type": "code",
      "source": [
        "len(Y)\n",
        "Y[21291]"
      ],
      "metadata": {
        "colab": {
          "base_uri": "https://localhost:8080/"
        },
        "id": "GU5FvfncVljG",
        "outputId": "ab9ca119-b829-4fc5-f303-0ce963f5da1f"
      },
      "execution_count": 234,
      "outputs": [
        {
          "output_type": "execute_result",
          "data": {
            "text/plain": [
              "1.0"
            ]
          },
          "metadata": {},
          "execution_count": 234
        }
      ]
    },
    {
      "cell_type": "markdown",
      "metadata": {
        "id": "lL1Mc8ibHnep"
      },
      "source": [
        "## Data splitting\n",
        "Split the data into train, validate and test sets."
      ]
    },
    {
      "cell_type": "code",
      "source": [
        "from sklearn.utils import shuffle\n",
        "X_shuffled,y_shuffled = shuffle(X, Y, random_state=0)"
      ],
      "metadata": {
        "id": "FAz8UzEaSl09"
      },
      "execution_count": 235,
      "outputs": []
    },
    {
      "cell_type": "code",
      "source": [
        "def split_data(X, Y, v_ratio=0.2, t_ratio=0.1):\n",
        "  v_split = int(X.shape[0]*(1-v_ratio-t_ratio))\n",
        "  t_split = int(X.shape[0]*(1-t_ratio))\n",
        "  X_train, Y_train  = X[0:v_split],       Y[0:v_split]\n",
        "  X_valid, Y_valid  = X[v_split:t_split], Y[v_split:t_split]\n",
        "  X_test , Y_test   = X[t_split:],        Y[t_split:]\n",
        "  return X_train, Y_train, X_valid, Y_valid, X_test, Y_test"
      ],
      "metadata": {
        "id": "mfA4SPYwVWdy"
      },
      "execution_count": 236,
      "outputs": []
    },
    {
      "cell_type": "code",
      "source": [
        "X_train, Y_train, X_valid, Y_valid, X_test, Y_test = split_data(X_shuffled,y_shuffled)"
      ],
      "metadata": {
        "id": "KheZCTUwTZSe"
      },
      "execution_count": 237,
      "outputs": []
    },
    {
      "cell_type": "code",
      "source": [
        "len(X_train)  + len(X_valid)  +len(X_test)"
      ],
      "metadata": {
        "colab": {
          "base_uri": "https://localhost:8080/"
        },
        "id": "OsAgM3jdVZI_",
        "outputId": "bc6fdf40-9025-4c2a-fba3-ecc62c6bde49"
      },
      "execution_count": 238,
      "outputs": [
        {
          "output_type": "execute_result",
          "data": {
            "text/plain": [
              "21314"
            ]
          },
          "metadata": {},
          "execution_count": 238
        }
      ]
    },
    {
      "cell_type": "code",
      "source": [
        "X_shuffled.shape"
      ],
      "metadata": {
        "colab": {
          "base_uri": "https://localhost:8080/"
        },
        "id": "ehJVJSROWtuU",
        "outputId": "6adff35c-ceb0-48db-9f34-a5c9f6d22b8b"
      },
      "execution_count": 239,
      "outputs": [
        {
          "output_type": "execute_result",
          "data": {
            "text/plain": [
              "(21314, 30, 80)"
            ]
          },
          "metadata": {},
          "execution_count": 239
        }
      ]
    },
    {
      "cell_type": "markdown",
      "metadata": {
        "id": "hA8U9tr7HrNQ"
      },
      "source": [
        "## Model definition\n",
        "Define a 1D CNN or an LSTM for the task. Compile the model with the correct loss function."
      ]
    },
    {
      "cell_type": "code",
      "metadata": {
        "id": "BT1V1s4kHuUe"
      },
      "source": [
        "model = Sequential()\n",
        "model.add(LSTM(64, input_shape=(X_shuffled.shape[1],X_shuffled.shape[2],)))\n",
        "model.add(Dense(1))#ouptu is just 0 or 1 \n",
        "model.add(Activation('softmax'))\n",
        "optimizer = RMSprop(learning_rate=0.01)\n",
        "model.compile(loss='BinaryCrossentropy', optimizer=optimizer,metrics=['accuracy'])"
      ],
      "execution_count": 240,
      "outputs": []
    },
    {
      "cell_type": "code",
      "source": [
        "model.summary()"
      ],
      "metadata": {
        "colab": {
          "base_uri": "https://localhost:8080/"
        },
        "id": "CmsWHik1a4WP",
        "outputId": "0db88d79-e82f-468f-e25f-2de5d7d2e982"
      },
      "execution_count": 241,
      "outputs": [
        {
          "output_type": "stream",
          "name": "stdout",
          "text": [
            "Model: \"sequential_12\"\n",
            "_________________________________________________________________\n",
            " Layer (type)                Output Shape              Param #   \n",
            "=================================================================\n",
            " lstm_11 (LSTM)              (None, 64)                37120     \n",
            "                                                                 \n",
            " dense_11 (Dense)            (None, 1)                 65        \n",
            "                                                                 \n",
            " activation_11 (Activation)  (None, 1)                 0         \n",
            "                                                                 \n",
            "=================================================================\n",
            "Total params: 37,185\n",
            "Trainable params: 37,185\n",
            "Non-trainable params: 0\n",
            "_________________________________________________________________\n"
          ]
        }
      ]
    },
    {
      "cell_type": "markdown",
      "metadata": {
        "id": "hWFb-nAMHuAI"
      },
      "source": [
        "## Model training\n",
        "Train the model and apply early stopping."
      ]
    },
    {
      "cell_type": "code",
      "metadata": {
        "id": "dvgKjqp3Hwkp",
        "colab": {
          "base_uri": "https://localhost:8080/"
        },
        "outputId": "61cb1db4-3f22-48dd-d3fe-2b721c9b0893"
      },
      "source": [
        "model.fit(X_train, Y_train,\n",
        "          batch_size=64,\n",
        "          epochs=100,\n",
        "           validation_data=(X_valid, Y_valid)\n",
        "            )"
      ],
      "execution_count": 243,
      "outputs": [
        {
          "output_type": "stream",
          "name": "stdout",
          "text": [
            "Epoch 1/100\n",
            "234/234 [==============================] - 6s 26ms/step - loss: 8.1667e-05 - accuracy: 0.5018 - val_loss: 0.0017 - val_accuracy: 0.4999\n",
            "Epoch 2/100\n",
            "234/234 [==============================] - 6s 26ms/step - loss: 3.6740e-07 - accuracy: 0.5018 - val_loss: 0.0064 - val_accuracy: 0.4999\n",
            "Epoch 3/100\n",
            "234/234 [==============================] - 6s 25ms/step - loss: 3.4395e-10 - accuracy: 0.5018 - val_loss: 0.0068 - val_accuracy: 0.4999\n",
            "Epoch 4/100\n",
            "234/234 [==============================] - 6s 25ms/step - loss: 2.0904e-10 - accuracy: 0.5018 - val_loss: 0.0073 - val_accuracy: 0.4999\n",
            "Epoch 5/100\n",
            "234/234 [==============================] - 6s 26ms/step - loss: 1.5679e-10 - accuracy: 0.5018 - val_loss: 0.0076 - val_accuracy: 0.4999\n",
            "Epoch 6/100\n",
            "234/234 [==============================] - 6s 26ms/step - loss: 1.2733e-10 - accuracy: 0.5018 - val_loss: 0.0077 - val_accuracy: 0.4999\n",
            "Epoch 7/100\n",
            "234/234 [==============================] - 6s 25ms/step - loss: 1.1117e-10 - accuracy: 0.5018 - val_loss: 0.0078 - val_accuracy: 0.4999\n",
            "Epoch 8/100\n",
            "234/234 [==============================] - 6s 26ms/step - loss: 9.9488e-11 - accuracy: 0.5018 - val_loss: 0.0079 - val_accuracy: 0.4999\n",
            "Epoch 9/100\n",
            "234/234 [==============================] - 6s 27ms/step - loss: 9.2011e-11 - accuracy: 0.5018 - val_loss: 0.0080 - val_accuracy: 0.4999\n",
            "Epoch 10/100\n",
            "234/234 [==============================] - 6s 26ms/step - loss: 8.5278e-11 - accuracy: 0.5018 - val_loss: 0.0081 - val_accuracy: 0.4999\n",
            "Epoch 11/100\n",
            "234/234 [==============================] - 6s 26ms/step - loss: 7.7993e-11 - accuracy: 0.5018 - val_loss: 0.0081 - val_accuracy: 0.4999\n",
            "Epoch 12/100\n",
            "234/234 [==============================] - 6s 26ms/step - loss: 7.4529e-11 - accuracy: 0.5018 - val_loss: 0.0082 - val_accuracy: 0.4999\n",
            "Epoch 13/100\n",
            "234/234 [==============================] - 6s 26ms/step - loss: 6.8841e-11 - accuracy: 0.5018 - val_loss: 0.0082 - val_accuracy: 0.4999\n",
            "Epoch 14/100\n",
            "234/234 [==============================] - 6s 26ms/step - loss: 6.6934e-11 - accuracy: 0.5018 - val_loss: 0.0082 - val_accuracy: 0.4999\n",
            "Epoch 15/100\n",
            "234/234 [==============================] - 6s 26ms/step - loss: 6.3546e-11 - accuracy: 0.5018 - val_loss: 0.0083 - val_accuracy: 0.4999\n",
            "Epoch 16/100\n",
            "234/234 [==============================] - 6s 26ms/step - loss: 6.2917e-11 - accuracy: 0.5018 - val_loss: 0.0083 - val_accuracy: 0.4999\n",
            "Epoch 17/100\n",
            "234/234 [==============================] - 6s 25ms/step - loss: 5.9466e-11 - accuracy: 0.5018 - val_loss: 0.0083 - val_accuracy: 0.4999\n",
            "Epoch 18/100\n",
            "234/234 [==============================] - 6s 26ms/step - loss: 5.6967e-11 - accuracy: 0.5018 - val_loss: 0.0084 - val_accuracy: 0.4999\n",
            "Epoch 19/100\n",
            "234/234 [==============================] - 6s 26ms/step - loss: 5.6150e-11 - accuracy: 0.5018 - val_loss: 0.0084 - val_accuracy: 0.4999\n",
            "Epoch 20/100\n",
            "234/234 [==============================] - 6s 26ms/step - loss: 5.5517e-11 - accuracy: 0.5018 - val_loss: 0.0085 - val_accuracy: 0.4999\n",
            "Epoch 21/100\n",
            "234/234 [==============================] - 6s 26ms/step - loss: 5.3521e-11 - accuracy: 0.5018 - val_loss: 0.0084 - val_accuracy: 0.4999\n",
            "Epoch 22/100\n",
            "234/234 [==============================] - 6s 26ms/step - loss: 5.2502e-11 - accuracy: 0.5018 - val_loss: 0.0084 - val_accuracy: 0.4999\n",
            "Epoch 23/100\n",
            "234/234 [==============================] - 6s 26ms/step - loss: 5.1216e-11 - accuracy: 0.5018 - val_loss: 0.0085 - val_accuracy: 0.4999\n",
            "Epoch 24/100\n",
            "234/234 [==============================] - 6s 26ms/step - loss: 5.0003e-11 - accuracy: 0.5018 - val_loss: 0.0084 - val_accuracy: 0.4999\n",
            "Epoch 25/100\n",
            "234/234 [==============================] - 6s 25ms/step - loss: 5.0350e-11 - accuracy: 0.5018 - val_loss: 0.0084 - val_accuracy: 0.4999\n",
            "Epoch 26/100\n",
            "234/234 [==============================] - 6s 26ms/step - loss: 4.9982e-11 - accuracy: 0.5018 - val_loss: 0.0085 - val_accuracy: 0.4999\n",
            "Epoch 27/100\n",
            "234/234 [==============================] - 6s 25ms/step - loss: 4.8753e-11 - accuracy: 0.5018 - val_loss: 0.0085 - val_accuracy: 0.4999\n",
            "Epoch 28/100\n",
            "234/234 [==============================] - 6s 26ms/step - loss: 4.9060e-11 - accuracy: 0.5018 - val_loss: 0.0084 - val_accuracy: 0.4999\n",
            "Epoch 29/100\n",
            "234/234 [==============================] - 6s 26ms/step - loss: 4.8989e-11 - accuracy: 0.5018 - val_loss: 0.0085 - val_accuracy: 0.4999\n",
            "Epoch 30/100\n",
            "234/234 [==============================] - 6s 25ms/step - loss: 4.7746e-11 - accuracy: 0.5018 - val_loss: 0.0085 - val_accuracy: 0.4999\n",
            "Epoch 31/100\n",
            "234/234 [==============================] - 6s 26ms/step - loss: 4.7603e-11 - accuracy: 0.5018 - val_loss: 0.0085 - val_accuracy: 0.4999\n",
            "Epoch 32/100\n",
            "234/234 [==============================] - 6s 26ms/step - loss: 4.3547e-11 - accuracy: 0.5018 - val_loss: 0.0085 - val_accuracy: 0.4999\n",
            "Epoch 33/100\n",
            "234/234 [==============================] - 6s 25ms/step - loss: 4.4334e-11 - accuracy: 0.5018 - val_loss: 0.0085 - val_accuracy: 0.4999\n",
            "Epoch 34/100\n",
            "234/234 [==============================] - 6s 25ms/step - loss: 4.4355e-11 - accuracy: 0.5018 - val_loss: 0.0085 - val_accuracy: 0.4999\n",
            "Epoch 35/100\n",
            "234/234 [==============================] - 6s 25ms/step - loss: 4.4629e-11 - accuracy: 0.5018 - val_loss: 0.0086 - val_accuracy: 0.4999\n",
            "Epoch 36/100\n",
            "234/234 [==============================] - 6s 25ms/step - loss: 4.3240e-11 - accuracy: 0.5018 - val_loss: 0.0085 - val_accuracy: 0.4999\n",
            "Epoch 37/100\n",
            "234/234 [==============================] - 6s 26ms/step - loss: 4.2937e-11 - accuracy: 0.5018 - val_loss: 0.0085 - val_accuracy: 0.4999\n",
            "Epoch 38/100\n",
            "234/234 [==============================] - 6s 26ms/step - loss: 4.2646e-11 - accuracy: 0.5018 - val_loss: 0.0085 - val_accuracy: 0.4999\n",
            "Epoch 39/100\n",
            "234/234 [==============================] - 7s 29ms/step - loss: 4.3096e-11 - accuracy: 0.5018 - val_loss: 0.0086 - val_accuracy: 0.4999\n",
            "Epoch 40/100\n",
            "234/234 [==============================] - 6s 26ms/step - loss: 4.0852e-11 - accuracy: 0.5018 - val_loss: 0.0086 - val_accuracy: 0.4999\n",
            "Epoch 41/100\n",
            "234/234 [==============================] - 6s 26ms/step - loss: 4.1569e-11 - accuracy: 0.5018 - val_loss: 0.0086 - val_accuracy: 0.4999\n",
            "Epoch 42/100\n",
            "234/234 [==============================] - 6s 26ms/step - loss: 4.1681e-11 - accuracy: 0.5018 - val_loss: 0.0086 - val_accuracy: 0.4999\n",
            "Epoch 43/100\n",
            "234/234 [==============================] - 6s 26ms/step - loss: 4.1972e-11 - accuracy: 0.5018 - val_loss: 0.0086 - val_accuracy: 0.4999\n",
            "Epoch 44/100\n",
            "234/234 [==============================] - 6s 26ms/step - loss: 4.2924e-11 - accuracy: 0.5018 - val_loss: 0.0085 - val_accuracy: 0.4999\n",
            "Epoch 45/100\n",
            "234/234 [==============================] - 6s 26ms/step - loss: 4.1475e-11 - accuracy: 0.5018 - val_loss: 0.0086 - val_accuracy: 0.4999\n",
            "Epoch 46/100\n",
            "234/234 [==============================] - 6s 26ms/step - loss: 4.0409e-11 - accuracy: 0.5018 - val_loss: 0.0086 - val_accuracy: 0.4999\n",
            "Epoch 47/100\n",
            "234/234 [==============================] - 6s 26ms/step - loss: 4.0742e-11 - accuracy: 0.5018 - val_loss: 0.0086 - val_accuracy: 0.4999\n",
            "Epoch 48/100\n",
            "234/234 [==============================] - 7s 28ms/step - loss: 4.1209e-11 - accuracy: 0.5018 - val_loss: 0.0086 - val_accuracy: 0.4999\n",
            "Epoch 49/100\n",
            "234/234 [==============================] - 6s 26ms/step - loss: 4.1268e-11 - accuracy: 0.5018 - val_loss: 0.0086 - val_accuracy: 0.4999\n",
            "Epoch 50/100\n",
            "234/234 [==============================] - 6s 26ms/step - loss: 4.1713e-11 - accuracy: 0.5018 - val_loss: 0.0086 - val_accuracy: 0.4999\n",
            "Epoch 51/100\n",
            "234/234 [==============================] - 6s 26ms/step - loss: 3.9754e-11 - accuracy: 0.5018 - val_loss: 0.0086 - val_accuracy: 0.4999\n",
            "Epoch 52/100\n",
            "234/234 [==============================] - 6s 26ms/step - loss: 3.9014e-11 - accuracy: 0.5018 - val_loss: 0.0086 - val_accuracy: 0.4999\n",
            "Epoch 53/100\n",
            "234/234 [==============================] - 6s 27ms/step - loss: 3.9753e-11 - accuracy: 0.5018 - val_loss: 0.0086 - val_accuracy: 0.4999\n",
            "Epoch 54/100\n",
            "234/234 [==============================] - 6s 27ms/step - loss: 4.0027e-11 - accuracy: 0.5018 - val_loss: 0.0086 - val_accuracy: 0.4999\n",
            "Epoch 55/100\n",
            "234/234 [==============================] - 6s 26ms/step - loss: 4.0747e-11 - accuracy: 0.5018 - val_loss: 0.0086 - val_accuracy: 0.4999\n",
            "Epoch 56/100\n",
            "234/234 [==============================] - 6s 26ms/step - loss: 3.7907e-11 - accuracy: 0.5018 - val_loss: 0.0087 - val_accuracy: 0.4999\n",
            "Epoch 57/100\n",
            "234/234 [==============================] - 6s 26ms/step - loss: 3.8340e-11 - accuracy: 0.5018 - val_loss: 0.0087 - val_accuracy: 0.4999\n",
            "Epoch 58/100\n",
            "234/234 [==============================] - 6s 26ms/step - loss: 3.8196e-11 - accuracy: 0.5018 - val_loss: 0.0087 - val_accuracy: 0.4999\n",
            "Epoch 59/100\n",
            "234/234 [==============================] - 6s 26ms/step - loss: 3.9037e-11 - accuracy: 0.5018 - val_loss: 0.0087 - val_accuracy: 0.4999\n",
            "Epoch 60/100\n",
            "234/234 [==============================] - 6s 26ms/step - loss: 4.0481e-11 - accuracy: 0.5018 - val_loss: 0.0087 - val_accuracy: 0.4999\n",
            "Epoch 61/100\n",
            "234/234 [==============================] - 6s 26ms/step - loss: 3.9910e-11 - accuracy: 0.5018 - val_loss: 0.0088 - val_accuracy: 0.4999\n",
            "Epoch 62/100\n",
            "234/234 [==============================] - 6s 26ms/step - loss: 3.5569e-11 - accuracy: 0.5018 - val_loss: 0.0088 - val_accuracy: 0.4999\n",
            "Epoch 63/100\n",
            "234/234 [==============================] - 6s 26ms/step - loss: 3.6607e-11 - accuracy: 0.5018 - val_loss: 0.0088 - val_accuracy: 0.4999\n",
            "Epoch 64/100\n",
            "234/234 [==============================] - 6s 26ms/step - loss: 3.6863e-11 - accuracy: 0.5018 - val_loss: 0.0087 - val_accuracy: 0.4999\n",
            "Epoch 65/100\n",
            "234/234 [==============================] - 6s 26ms/step - loss: 3.7151e-11 - accuracy: 0.5018 - val_loss: 0.0087 - val_accuracy: 0.4999\n",
            "Epoch 66/100\n",
            "234/234 [==============================] - 6s 27ms/step - loss: 3.8157e-11 - accuracy: 0.5018 - val_loss: 0.0087 - val_accuracy: 0.4999\n",
            "Epoch 67/100\n",
            "234/234 [==============================] - 6s 26ms/step - loss: 3.7832e-11 - accuracy: 0.5018 - val_loss: 0.0087 - val_accuracy: 0.4999\n",
            "Epoch 68/100\n",
            "234/234 [==============================] - 6s 26ms/step - loss: 3.7370e-11 - accuracy: 0.5018 - val_loss: 0.0087 - val_accuracy: 0.4999\n",
            "Epoch 69/100\n",
            "234/234 [==============================] - 6s 26ms/step - loss: 3.8470e-11 - accuracy: 0.5018 - val_loss: 0.0087 - val_accuracy: 0.4999\n",
            "Epoch 70/100\n",
            "234/234 [==============================] - 6s 26ms/step - loss: 3.8239e-11 - accuracy: 0.5018 - val_loss: 0.0087 - val_accuracy: 0.4999\n",
            "Epoch 71/100\n",
            "234/234 [==============================] - 6s 26ms/step - loss: 3.8092e-11 - accuracy: 0.5018 - val_loss: 0.0087 - val_accuracy: 0.4999\n",
            "Epoch 72/100\n",
            "234/234 [==============================] - 6s 26ms/step - loss: 3.8449e-11 - accuracy: 0.5018 - val_loss: 0.0087 - val_accuracy: 0.4999\n",
            "Epoch 73/100\n",
            "234/234 [==============================] - 6s 27ms/step - loss: 3.9222e-11 - accuracy: 0.5018 - val_loss: 0.0088 - val_accuracy: 0.4999\n",
            "Epoch 74/100\n",
            "234/234 [==============================] - 6s 26ms/step - loss: 3.6003e-11 - accuracy: 0.5018 - val_loss: 0.0088 - val_accuracy: 0.4999\n",
            "Epoch 75/100\n",
            "234/234 [==============================] - 6s 27ms/step - loss: 3.7372e-11 - accuracy: 0.5018 - val_loss: 0.0088 - val_accuracy: 0.4999\n",
            "Epoch 76/100\n",
            "234/234 [==============================] - 6s 26ms/step - loss: 3.6685e-11 - accuracy: 0.5018 - val_loss: 0.0088 - val_accuracy: 0.4999\n",
            "Epoch 77/100\n",
            "234/234 [==============================] - 6s 26ms/step - loss: 3.7817e-11 - accuracy: 0.5018 - val_loss: 0.0088 - val_accuracy: 0.4999\n",
            "Epoch 78/100\n",
            "234/234 [==============================] - 6s 26ms/step - loss: 3.8826e-11 - accuracy: 0.5018 - val_loss: 0.0088 - val_accuracy: 0.4999\n",
            "Epoch 79/100\n",
            "234/234 [==============================] - 6s 26ms/step - loss: 3.8086e-11 - accuracy: 0.5018 - val_loss: 0.0088 - val_accuracy: 0.4999\n",
            "Epoch 80/100\n",
            "234/234 [==============================] - 6s 27ms/step - loss: 3.8281e-11 - accuracy: 0.5018 - val_loss: 0.0088 - val_accuracy: 0.4999\n",
            "Epoch 81/100\n",
            "234/234 [==============================] - 6s 27ms/step - loss: 3.8475e-11 - accuracy: 0.5018 - val_loss: 0.0088 - val_accuracy: 0.4999\n",
            "Epoch 82/100\n",
            "234/234 [==============================] - 6s 28ms/step - loss: 3.5973e-11 - accuracy: 0.5018 - val_loss: 0.0088 - val_accuracy: 0.4999\n",
            "Epoch 83/100\n",
            "234/234 [==============================] - 6s 27ms/step - loss: 3.4441e-11 - accuracy: 0.5018 - val_loss: 0.0088 - val_accuracy: 0.4999\n",
            "Epoch 84/100\n",
            "234/234 [==============================] - 6s 27ms/step - loss: 3.5507e-11 - accuracy: 0.5018 - val_loss: 0.0088 - val_accuracy: 0.4999\n",
            "Epoch 85/100\n",
            "234/234 [==============================] - 7s 30ms/step - loss: 3.6309e-11 - accuracy: 0.5018 - val_loss: 0.0088 - val_accuracy: 0.4999\n",
            "Epoch 86/100\n",
            "234/234 [==============================] - 7s 28ms/step - loss: 3.7056e-11 - accuracy: 0.5018 - val_loss: 0.0088 - val_accuracy: 0.4999\n",
            "Epoch 87/100\n",
            "234/234 [==============================] - 7s 28ms/step - loss: 3.6433e-11 - accuracy: 0.5018 - val_loss: 0.0088 - val_accuracy: 0.4999\n",
            "Epoch 88/100\n",
            "234/234 [==============================] - 6s 27ms/step - loss: 3.7522e-11 - accuracy: 0.5018 - val_loss: 0.0088 - val_accuracy: 0.4999\n",
            "Epoch 89/100\n",
            "234/234 [==============================] - 6s 27ms/step - loss: 3.6460e-11 - accuracy: 0.5018 - val_loss: 0.0088 - val_accuracy: 0.4999\n",
            "Epoch 90/100\n",
            "234/234 [==============================] - 6s 27ms/step - loss: 3.8031e-11 - accuracy: 0.5018 - val_loss: 0.0089 - val_accuracy: 0.4999\n",
            "Epoch 91/100\n",
            "234/234 [==============================] - 6s 27ms/step - loss: 3.2562e-11 - accuracy: 0.5018 - val_loss: 0.0089 - val_accuracy: 0.4999\n",
            "Epoch 92/100\n",
            "234/234 [==============================] - 6s 26ms/step - loss: 3.3127e-11 - accuracy: 0.5018 - val_loss: 0.0089 - val_accuracy: 0.4999\n",
            "Epoch 93/100\n",
            "234/234 [==============================] - 6s 27ms/step - loss: 3.4107e-11 - accuracy: 0.5018 - val_loss: 0.0089 - val_accuracy: 0.4999\n",
            "Epoch 94/100\n",
            "234/234 [==============================] - 6s 27ms/step - loss: 3.4482e-11 - accuracy: 0.5018 - val_loss: 0.0089 - val_accuracy: 0.4999\n",
            "Epoch 95/100\n",
            "234/234 [==============================] - 6s 27ms/step - loss: 3.4015e-11 - accuracy: 0.5018 - val_loss: 0.0089 - val_accuracy: 0.4999\n",
            "Epoch 96/100\n",
            "234/234 [==============================] - 6s 27ms/step - loss: 3.5071e-11 - accuracy: 0.5018 - val_loss: 0.0089 - val_accuracy: 0.4999\n",
            "Epoch 97/100\n",
            "234/234 [==============================] - 6s 27ms/step - loss: 3.4272e-11 - accuracy: 0.5018 - val_loss: 0.0089 - val_accuracy: 0.4999\n",
            "Epoch 98/100\n",
            "234/234 [==============================] - 6s 27ms/step - loss: 3.4872e-11 - accuracy: 0.5018 - val_loss: 0.0089 - val_accuracy: 0.4999\n",
            "Epoch 99/100\n",
            "234/234 [==============================] - 6s 27ms/step - loss: 3.5172e-11 - accuracy: 0.5018 - val_loss: 0.0089 - val_accuracy: 0.4999\n",
            "Epoch 100/100\n",
            "234/234 [==============================] - 6s 27ms/step - loss: 3.4866e-11 - accuracy: 0.5018 - val_loss: 0.0089 - val_accuracy: 0.4999\n"
          ]
        },
        {
          "output_type": "execute_result",
          "data": {
            "text/plain": [
              "<keras.callbacks.History at 0x7fd2d6e16910>"
            ]
          },
          "metadata": {},
          "execution_count": 243
        }
      ]
    },
    {
      "cell_type": "code",
      "source": [
        "X_train.shape"
      ],
      "metadata": {
        "colab": {
          "base_uri": "https://localhost:8080/"
        },
        "id": "6Hw4SK5zaL0n",
        "outputId": "b9e8c7b4-8f7e-4146-f7b1-35cf76227200"
      },
      "execution_count": 244,
      "outputs": [
        {
          "output_type": "execute_result",
          "data": {
            "text/plain": [
              "(14919, 30, 80)"
            ]
          },
          "metadata": {},
          "execution_count": 244
        }
      ]
    },
    {
      "cell_type": "code",
      "source": [
        "Y_train.shape"
      ],
      "metadata": {
        "colab": {
          "base_uri": "https://localhost:8080/"
        },
        "id": "bc3O45C8aJiw",
        "outputId": "ff402079-5113-44fb-c2b7-60f65f35d3da"
      },
      "execution_count": 245,
      "outputs": [
        {
          "output_type": "execute_result",
          "data": {
            "text/plain": [
              "(14919,)"
            ]
          },
          "metadata": {},
          "execution_count": 245
        }
      ]
    },
    {
      "cell_type": "markdown",
      "metadata": {
        "id": "0omw2XzSHwOo"
      },
      "source": [
        "## Evaluation on test data\n",
        "Evaluate the model on the test data in terms of loss and accuracy."
      ]
    },
    {
      "cell_type": "code",
      "metadata": {
        "id": "4bF3dQA1Hv_R",
        "colab": {
          "base_uri": "https://localhost:8080/"
        },
        "outputId": "d08ba55a-1257-4470-efd7-00225d986f93"
      },
      "source": [
        "model.evaluate(X_test,Y_test)"
      ],
      "execution_count": 246,
      "outputs": [
        {
          "output_type": "stream",
          "name": "stdout",
          "text": [
            "67/67 [==============================] - 0s 7ms/step - loss: 0.0081 - accuracy: 0.4873\n"
          ]
        },
        {
          "output_type": "execute_result",
          "data": {
            "text/plain": [
              "[0.008136122487485409, 0.48733583092689514]"
            ]
          },
          "metadata": {},
          "execution_count": 246
        }
      ]
    },
    {
      "cell_type": "code",
      "metadata": {
        "id": "cW8zZi1uJm2B"
      },
      "source": [
        ""
      ],
      "execution_count": null,
      "outputs": []
    }
  ]
}